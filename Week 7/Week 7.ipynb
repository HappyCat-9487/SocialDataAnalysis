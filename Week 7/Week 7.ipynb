{
 "cells": [
  {
   "cell_type": "code",
   "execution_count": 1,
   "metadata": {},
   "outputs": [],
   "source": [
    "import pandas as pd\n",
    "import numpy as np\n",
    "from bokeh.plotting import figure, show\n",
    "from bokeh.layouts import gridplot\n",
    "from bokeh.models import ColumnDataSource, HoverTool\n",
    "from bokeh.io import output_notebook\n",
    "from bokeh.transform import linear_cmap\n",
    "from bokeh.palettes import Spectral6\n",
    "\n",
    "import matplotlib.pyplot as plt\n",
    "import seaborn as sns\n",
    "%matplotlib inline\n",
    "from sklearn.model_selection import train_test_split\n",
    "from sklearn import ensemble\n",
    "from sklearn.ensemble import RandomForestClassifier\n",
    "from sklearn import metrics\n",
    "from sklearn.metrics import accuracy_score, confusion_matrix, classification_report"
   ]
  },
  {
   "cell_type": "code",
   "execution_count": 2,
   "metadata": {},
   "outputs": [],
   "source": [
    "df = pd.read_csv('data_7.txt')"
   ]
  },
  {
   "cell_type": "markdown",
   "metadata": {},
   "source": [
    "# part 1"
   ]
  },
  {
   "cell_type": "markdown",
   "metadata": {},
   "source": [
    "***Exercise 1.1***"
   ]
  },
  {
   "cell_type": "code",
   "execution_count": 3,
   "metadata": {},
   "outputs": [
    {
     "data": {
      "text/html": [
       "<div>\n",
       "<style scoped>\n",
       "    .dataframe tbody tr th:only-of-type {\n",
       "        vertical-align: middle;\n",
       "    }\n",
       "\n",
       "    .dataframe tbody tr th {\n",
       "        vertical-align: top;\n",
       "    }\n",
       "\n",
       "    .dataframe thead th {\n",
       "        text-align: right;\n",
       "    }\n",
       "</style>\n",
       "<table border=\"1\" class=\"dataframe\">\n",
       "  <thead>\n",
       "    <tr style=\"text-align: right;\">\n",
       "      <th>race</th>\n",
       "      <th>age</th>\n",
       "      <th>African-American</th>\n",
       "      <th>Asian</th>\n",
       "      <th>Caucasian</th>\n",
       "      <th>Hispanic</th>\n",
       "      <th>Native American</th>\n",
       "      <th>Other</th>\n",
       "    </tr>\n",
       "  </thead>\n",
       "  <tbody>\n",
       "    <tr>\n",
       "      <td>0</td>\n",
       "      <td>18</td>\n",
       "      <td>2.0</td>\n",
       "      <td>0.0</td>\n",
       "      <td>1.0</td>\n",
       "      <td>0.0</td>\n",
       "      <td>0.0</td>\n",
       "      <td>0.0</td>\n",
       "    </tr>\n",
       "    <tr>\n",
       "      <td>1</td>\n",
       "      <td>19</td>\n",
       "      <td>22.0</td>\n",
       "      <td>0.0</td>\n",
       "      <td>9.0</td>\n",
       "      <td>2.0</td>\n",
       "      <td>0.0</td>\n",
       "      <td>1.0</td>\n",
       "    </tr>\n",
       "    <tr>\n",
       "      <td>2</td>\n",
       "      <td>20</td>\n",
       "      <td>109.0</td>\n",
       "      <td>1.0</td>\n",
       "      <td>44.0</td>\n",
       "      <td>12.0</td>\n",
       "      <td>1.0</td>\n",
       "      <td>16.0</td>\n",
       "    </tr>\n",
       "    <tr>\n",
       "      <td>3</td>\n",
       "      <td>21</td>\n",
       "      <td>191.0</td>\n",
       "      <td>1.0</td>\n",
       "      <td>76.0</td>\n",
       "      <td>31.0</td>\n",
       "      <td>1.0</td>\n",
       "      <td>18.0</td>\n",
       "    </tr>\n",
       "    <tr>\n",
       "      <td>4</td>\n",
       "      <td>22</td>\n",
       "      <td>187.0</td>\n",
       "      <td>1.0</td>\n",
       "      <td>83.0</td>\n",
       "      <td>24.0</td>\n",
       "      <td>1.0</td>\n",
       "      <td>9.0</td>\n",
       "    </tr>\n",
       "    <tr>\n",
       "      <td>...</td>\n",
       "      <td>...</td>\n",
       "      <td>...</td>\n",
       "      <td>...</td>\n",
       "      <td>...</td>\n",
       "      <td>...</td>\n",
       "      <td>...</td>\n",
       "      <td>...</td>\n",
       "    </tr>\n",
       "    <tr>\n",
       "      <td>60</td>\n",
       "      <td>78</td>\n",
       "      <td>0.0</td>\n",
       "      <td>0.0</td>\n",
       "      <td>1.0</td>\n",
       "      <td>0.0</td>\n",
       "      <td>0.0</td>\n",
       "      <td>0.0</td>\n",
       "    </tr>\n",
       "    <tr>\n",
       "      <td>61</td>\n",
       "      <td>79</td>\n",
       "      <td>0.0</td>\n",
       "      <td>0.0</td>\n",
       "      <td>1.0</td>\n",
       "      <td>0.0</td>\n",
       "      <td>0.0</td>\n",
       "      <td>0.0</td>\n",
       "    </tr>\n",
       "    <tr>\n",
       "      <td>62</td>\n",
       "      <td>80</td>\n",
       "      <td>0.0</td>\n",
       "      <td>0.0</td>\n",
       "      <td>1.0</td>\n",
       "      <td>0.0</td>\n",
       "      <td>0.0</td>\n",
       "      <td>0.0</td>\n",
       "    </tr>\n",
       "    <tr>\n",
       "      <td>63</td>\n",
       "      <td>83</td>\n",
       "      <td>0.0</td>\n",
       "      <td>0.0</td>\n",
       "      <td>1.0</td>\n",
       "      <td>1.0</td>\n",
       "      <td>0.0</td>\n",
       "      <td>0.0</td>\n",
       "    </tr>\n",
       "    <tr>\n",
       "      <td>64</td>\n",
       "      <td>96</td>\n",
       "      <td>0.0</td>\n",
       "      <td>0.0</td>\n",
       "      <td>0.0</td>\n",
       "      <td>1.0</td>\n",
       "      <td>0.0</td>\n",
       "      <td>0.0</td>\n",
       "    </tr>\n",
       "  </tbody>\n",
       "</table>\n",
       "<p>65 rows × 7 columns</p>\n",
       "</div>"
      ],
      "text/plain": [
       "race  age  African-American  Asian  Caucasian  Hispanic  Native American  \\\n",
       "0      18               2.0    0.0        1.0       0.0              0.0   \n",
       "1      19              22.0    0.0        9.0       2.0              0.0   \n",
       "2      20             109.0    1.0       44.0      12.0              1.0   \n",
       "3      21             191.0    1.0       76.0      31.0              1.0   \n",
       "4      22             187.0    1.0       83.0      24.0              1.0   \n",
       "..    ...               ...    ...        ...       ...              ...   \n",
       "60     78               0.0    0.0        1.0       0.0              0.0   \n",
       "61     79               0.0    0.0        1.0       0.0              0.0   \n",
       "62     80               0.0    0.0        1.0       0.0              0.0   \n",
       "63     83               0.0    0.0        1.0       1.0              0.0   \n",
       "64     96               0.0    0.0        0.0       1.0              0.0   \n",
       "\n",
       "race  Other  \n",
       "0       0.0  \n",
       "1       1.0  \n",
       "2      16.0  \n",
       "3      18.0  \n",
       "4       9.0  \n",
       "..      ...  \n",
       "60      0.0  \n",
       "61      0.0  \n",
       "62      0.0  \n",
       "63      0.0  \n",
       "64      0.0  \n",
       "\n",
       "[65 rows x 7 columns]"
      ]
     },
     "execution_count": 3,
     "metadata": {},
     "output_type": "execute_result"
    }
   ],
   "source": [
    "#Grouped by age and the column will be race\n",
    "df2 = df.groupby(['age', 'race']).size().reset_index(name='Count')\n",
    "df3 = df2.pivot(index='age', columns='race', values='Count').reset_index()\n",
    "df3 = df3.fillna(0)\n",
    "\n",
    "df3"
   ]
  },
  {
   "cell_type": "code",
   "execution_count": 4,
   "metadata": {},
   "outputs": [],
   "source": [
    "source_df = ColumnDataSource(data=df3)"
   ]
  },
  {
   "cell_type": "code",
   "execution_count": 5,
   "metadata": {},
   "outputs": [
    {
     "data": {
      "text/html": [
       "\n",
       "    <div class=\"bk-root\">\n",
       "        <a href=\"https://bokeh.pydata.org\" target=\"_blank\" class=\"bk-logo bk-logo-small bk-logo-notebook\"></a>\n",
       "        <span id=\"1002\">Loading BokehJS ...</span>\n",
       "    </div>"
      ]
     },
     "metadata": {},
     "output_type": "display_data"
    },
    {
     "data": {
      "application/javascript": [
       "\n",
       "(function(root) {\n",
       "  function now() {\n",
       "    return new Date();\n",
       "  }\n",
       "\n",
       "  var force = true;\n",
       "\n",
       "  if (typeof root._bokeh_onload_callbacks === \"undefined\" || force === true) {\n",
       "    root._bokeh_onload_callbacks = [];\n",
       "    root._bokeh_is_loading = undefined;\n",
       "  }\n",
       "\n",
       "  var JS_MIME_TYPE = 'application/javascript';\n",
       "  var HTML_MIME_TYPE = 'text/html';\n",
       "  var EXEC_MIME_TYPE = 'application/vnd.bokehjs_exec.v0+json';\n",
       "  var CLASS_NAME = 'output_bokeh rendered_html';\n",
       "\n",
       "  /**\n",
       "   * Render data to the DOM node\n",
       "   */\n",
       "  function render(props, node) {\n",
       "    var script = document.createElement(\"script\");\n",
       "    node.appendChild(script);\n",
       "  }\n",
       "\n",
       "  /**\n",
       "   * Handle when an output is cleared or removed\n",
       "   */\n",
       "  function handleClearOutput(event, handle) {\n",
       "    var cell = handle.cell;\n",
       "\n",
       "    var id = cell.output_area._bokeh_element_id;\n",
       "    var server_id = cell.output_area._bokeh_server_id;\n",
       "    // Clean up Bokeh references\n",
       "    if (id != null && id in Bokeh.index) {\n",
       "      Bokeh.index[id].model.document.clear();\n",
       "      delete Bokeh.index[id];\n",
       "    }\n",
       "\n",
       "    if (server_id !== undefined) {\n",
       "      // Clean up Bokeh references\n",
       "      var cmd = \"from bokeh.io.state import curstate; print(curstate().uuid_to_server['\" + server_id + \"'].get_sessions()[0].document.roots[0]._id)\";\n",
       "      cell.notebook.kernel.execute(cmd, {\n",
       "        iopub: {\n",
       "          output: function(msg) {\n",
       "            var id = msg.content.text.trim();\n",
       "            if (id in Bokeh.index) {\n",
       "              Bokeh.index[id].model.document.clear();\n",
       "              delete Bokeh.index[id];\n",
       "            }\n",
       "          }\n",
       "        }\n",
       "      });\n",
       "      // Destroy server and session\n",
       "      var cmd = \"import bokeh.io.notebook as ion; ion.destroy_server('\" + server_id + \"')\";\n",
       "      cell.notebook.kernel.execute(cmd);\n",
       "    }\n",
       "  }\n",
       "\n",
       "  /**\n",
       "   * Handle when a new output is added\n",
       "   */\n",
       "  function handleAddOutput(event, handle) {\n",
       "    var output_area = handle.output_area;\n",
       "    var output = handle.output;\n",
       "\n",
       "    // limit handleAddOutput to display_data with EXEC_MIME_TYPE content only\n",
       "    if ((output.output_type != \"display_data\") || (!output.data.hasOwnProperty(EXEC_MIME_TYPE))) {\n",
       "      return\n",
       "    }\n",
       "\n",
       "    var toinsert = output_area.element.find(\".\" + CLASS_NAME.split(' ')[0]);\n",
       "\n",
       "    if (output.metadata[EXEC_MIME_TYPE][\"id\"] !== undefined) {\n",
       "      toinsert[toinsert.length - 1].firstChild.textContent = output.data[JS_MIME_TYPE];\n",
       "      // store reference to embed id on output_area\n",
       "      output_area._bokeh_element_id = output.metadata[EXEC_MIME_TYPE][\"id\"];\n",
       "    }\n",
       "    if (output.metadata[EXEC_MIME_TYPE][\"server_id\"] !== undefined) {\n",
       "      var bk_div = document.createElement(\"div\");\n",
       "      bk_div.innerHTML = output.data[HTML_MIME_TYPE];\n",
       "      var script_attrs = bk_div.children[0].attributes;\n",
       "      for (var i = 0; i < script_attrs.length; i++) {\n",
       "        toinsert[toinsert.length - 1].firstChild.setAttribute(script_attrs[i].name, script_attrs[i].value);\n",
       "      }\n",
       "      // store reference to server id on output_area\n",
       "      output_area._bokeh_server_id = output.metadata[EXEC_MIME_TYPE][\"server_id\"];\n",
       "    }\n",
       "  }\n",
       "\n",
       "  function register_renderer(events, OutputArea) {\n",
       "\n",
       "    function append_mime(data, metadata, element) {\n",
       "      // create a DOM node to render to\n",
       "      var toinsert = this.create_output_subarea(\n",
       "        metadata,\n",
       "        CLASS_NAME,\n",
       "        EXEC_MIME_TYPE\n",
       "      );\n",
       "      this.keyboard_manager.register_events(toinsert);\n",
       "      // Render to node\n",
       "      var props = {data: data, metadata: metadata[EXEC_MIME_TYPE]};\n",
       "      render(props, toinsert[toinsert.length - 1]);\n",
       "      element.append(toinsert);\n",
       "      return toinsert\n",
       "    }\n",
       "\n",
       "    /* Handle when an output is cleared or removed */\n",
       "    events.on('clear_output.CodeCell', handleClearOutput);\n",
       "    events.on('delete.Cell', handleClearOutput);\n",
       "\n",
       "    /* Handle when a new output is added */\n",
       "    events.on('output_added.OutputArea', handleAddOutput);\n",
       "\n",
       "    /**\n",
       "     * Register the mime type and append_mime function with output_area\n",
       "     */\n",
       "    OutputArea.prototype.register_mime_type(EXEC_MIME_TYPE, append_mime, {\n",
       "      /* Is output safe? */\n",
       "      safe: true,\n",
       "      /* Index of renderer in `output_area.display_order` */\n",
       "      index: 0\n",
       "    });\n",
       "  }\n",
       "\n",
       "  // register the mime type if in Jupyter Notebook environment and previously unregistered\n",
       "  if (root.Jupyter !== undefined) {\n",
       "    var events = require('base/js/events');\n",
       "    var OutputArea = require('notebook/js/outputarea').OutputArea;\n",
       "\n",
       "    if (OutputArea.prototype.mime_types().indexOf(EXEC_MIME_TYPE) == -1) {\n",
       "      register_renderer(events, OutputArea);\n",
       "    }\n",
       "  }\n",
       "\n",
       "  \n",
       "  if (typeof (root._bokeh_timeout) === \"undefined\" || force === true) {\n",
       "    root._bokeh_timeout = Date.now() + 5000;\n",
       "    root._bokeh_failed_load = false;\n",
       "  }\n",
       "\n",
       "  var NB_LOAD_WARNING = {'data': {'text/html':\n",
       "     \"<div style='background-color: #fdd'>\\n\"+\n",
       "     \"<p>\\n\"+\n",
       "     \"BokehJS does not appear to have successfully loaded. If loading BokehJS from CDN, this \\n\"+\n",
       "     \"may be due to a slow or bad network connection. Possible fixes:\\n\"+\n",
       "     \"</p>\\n\"+\n",
       "     \"<ul>\\n\"+\n",
       "     \"<li>re-rerun `output_notebook()` to attempt to load from CDN again, or</li>\\n\"+\n",
       "     \"<li>use INLINE resources instead, as so:</li>\\n\"+\n",
       "     \"</ul>\\n\"+\n",
       "     \"<code>\\n\"+\n",
       "     \"from bokeh.resources import INLINE\\n\"+\n",
       "     \"output_notebook(resources=INLINE)\\n\"+\n",
       "     \"</code>\\n\"+\n",
       "     \"</div>\"}};\n",
       "\n",
       "  function display_loaded() {\n",
       "    var el = document.getElementById(\"1002\");\n",
       "    if (el != null) {\n",
       "      el.textContent = \"BokehJS is loading...\";\n",
       "    }\n",
       "    if (root.Bokeh !== undefined) {\n",
       "      if (el != null) {\n",
       "        el.textContent = \"BokehJS \" + root.Bokeh.version + \" successfully loaded.\";\n",
       "      }\n",
       "    } else if (Date.now() < root._bokeh_timeout) {\n",
       "      setTimeout(display_loaded, 100)\n",
       "    }\n",
       "  }\n",
       "\n",
       "\n",
       "  function run_callbacks() {\n",
       "    try {\n",
       "      root._bokeh_onload_callbacks.forEach(function(callback) {\n",
       "        if (callback != null)\n",
       "          callback();\n",
       "      });\n",
       "    } finally {\n",
       "      delete root._bokeh_onload_callbacks\n",
       "    }\n",
       "    console.debug(\"Bokeh: all callbacks have finished\");\n",
       "  }\n",
       "\n",
       "  function load_libs(css_urls, js_urls, callback) {\n",
       "    if (css_urls == null) css_urls = [];\n",
       "    if (js_urls == null) js_urls = [];\n",
       "\n",
       "    root._bokeh_onload_callbacks.push(callback);\n",
       "    if (root._bokeh_is_loading > 0) {\n",
       "      console.debug(\"Bokeh: BokehJS is being loaded, scheduling callback at\", now());\n",
       "      return null;\n",
       "    }\n",
       "    if (js_urls == null || js_urls.length === 0) {\n",
       "      run_callbacks();\n",
       "      return null;\n",
       "    }\n",
       "    console.debug(\"Bokeh: BokehJS not loaded, scheduling load and callback at\", now());\n",
       "    root._bokeh_is_loading = css_urls.length + js_urls.length;\n",
       "\n",
       "    function on_load() {\n",
       "      root._bokeh_is_loading--;\n",
       "      if (root._bokeh_is_loading === 0) {\n",
       "        console.debug(\"Bokeh: all BokehJS libraries/stylesheets loaded\");\n",
       "        run_callbacks()\n",
       "      }\n",
       "    }\n",
       "\n",
       "    function on_error() {\n",
       "      console.error(\"failed to load \" + url);\n",
       "    }\n",
       "\n",
       "    for (var i = 0; i < css_urls.length; i++) {\n",
       "      var url = css_urls[i];\n",
       "      const element = document.createElement(\"link\");\n",
       "      element.onload = on_load;\n",
       "      element.onerror = on_error;\n",
       "      element.rel = \"stylesheet\";\n",
       "      element.type = \"text/css\";\n",
       "      element.href = url;\n",
       "      console.debug(\"Bokeh: injecting link tag for BokehJS stylesheet: \", url);\n",
       "      document.body.appendChild(element);\n",
       "    }\n",
       "\n",
       "    for (var i = 0; i < js_urls.length; i++) {\n",
       "      var url = js_urls[i];\n",
       "      var element = document.createElement('script');\n",
       "      element.onload = on_load;\n",
       "      element.onerror = on_error;\n",
       "      element.async = false;\n",
       "      element.src = url;\n",
       "      console.debug(\"Bokeh: injecting script tag for BokehJS library: \", url);\n",
       "      document.head.appendChild(element);\n",
       "    }\n",
       "  };var element = document.getElementById(\"1002\");\n",
       "  if (element == null) {\n",
       "    console.error(\"Bokeh: ERROR: autoload.js configured with elementid '1002' but no matching script tag was found. \")\n",
       "    return false;\n",
       "  }\n",
       "\n",
       "  function inject_raw_css(css) {\n",
       "    const element = document.createElement(\"style\");\n",
       "    element.appendChild(document.createTextNode(css));\n",
       "    document.body.appendChild(element);\n",
       "  }\n",
       "\n",
       "  var js_urls = [\"https://cdn.pydata.org/bokeh/release/bokeh-1.3.4.min.js\", \"https://cdn.pydata.org/bokeh/release/bokeh-widgets-1.3.4.min.js\", \"https://cdn.pydata.org/bokeh/release/bokeh-tables-1.3.4.min.js\", \"https://cdn.pydata.org/bokeh/release/bokeh-gl-1.3.4.min.js\"];\n",
       "  var css_urls = [];\n",
       "\n",
       "  var inline_js = [\n",
       "    function(Bokeh) {\n",
       "      Bokeh.set_log_level(\"info\");\n",
       "    },\n",
       "    \n",
       "    function(Bokeh) {\n",
       "      \n",
       "    },\n",
       "    function(Bokeh) {} // ensure no trailing comma for IE\n",
       "  ];\n",
       "\n",
       "  function run_inline_js() {\n",
       "    \n",
       "    if ((root.Bokeh !== undefined) || (force === true)) {\n",
       "      for (var i = 0; i < inline_js.length; i++) {\n",
       "        inline_js[i].call(root, root.Bokeh);\n",
       "      }if (force === true) {\n",
       "        display_loaded();\n",
       "      }} else if (Date.now() < root._bokeh_timeout) {\n",
       "      setTimeout(run_inline_js, 100);\n",
       "    } else if (!root._bokeh_failed_load) {\n",
       "      console.log(\"Bokeh: BokehJS failed to load within specified timeout.\");\n",
       "      root._bokeh_failed_load = true;\n",
       "    } else if (force !== true) {\n",
       "      var cell = $(document.getElementById(\"1002\")).parents('.cell').data().cell;\n",
       "      cell.output_area.append_execute_result(NB_LOAD_WARNING)\n",
       "    }\n",
       "\n",
       "  }\n",
       "\n",
       "  if (root._bokeh_is_loading === 0) {\n",
       "    console.debug(\"Bokeh: BokehJS loaded, going straight to plotting\");\n",
       "    run_inline_js();\n",
       "  } else {\n",
       "    load_libs(css_urls, js_urls, function() {\n",
       "      console.debug(\"Bokeh: BokehJS plotting callback run at\", now());\n",
       "      run_inline_js();\n",
       "    });\n",
       "  }\n",
       "}(window));"
      ],
      "application/vnd.bokehjs_load.v0+json": "\n(function(root) {\n  function now() {\n    return new Date();\n  }\n\n  var force = true;\n\n  if (typeof root._bokeh_onload_callbacks === \"undefined\" || force === true) {\n    root._bokeh_onload_callbacks = [];\n    root._bokeh_is_loading = undefined;\n  }\n\n  \n\n  \n  if (typeof (root._bokeh_timeout) === \"undefined\" || force === true) {\n    root._bokeh_timeout = Date.now() + 5000;\n    root._bokeh_failed_load = false;\n  }\n\n  var NB_LOAD_WARNING = {'data': {'text/html':\n     \"<div style='background-color: #fdd'>\\n\"+\n     \"<p>\\n\"+\n     \"BokehJS does not appear to have successfully loaded. If loading BokehJS from CDN, this \\n\"+\n     \"may be due to a slow or bad network connection. Possible fixes:\\n\"+\n     \"</p>\\n\"+\n     \"<ul>\\n\"+\n     \"<li>re-rerun `output_notebook()` to attempt to load from CDN again, or</li>\\n\"+\n     \"<li>use INLINE resources instead, as so:</li>\\n\"+\n     \"</ul>\\n\"+\n     \"<code>\\n\"+\n     \"from bokeh.resources import INLINE\\n\"+\n     \"output_notebook(resources=INLINE)\\n\"+\n     \"</code>\\n\"+\n     \"</div>\"}};\n\n  function display_loaded() {\n    var el = document.getElementById(\"1002\");\n    if (el != null) {\n      el.textContent = \"BokehJS is loading...\";\n    }\n    if (root.Bokeh !== undefined) {\n      if (el != null) {\n        el.textContent = \"BokehJS \" + root.Bokeh.version + \" successfully loaded.\";\n      }\n    } else if (Date.now() < root._bokeh_timeout) {\n      setTimeout(display_loaded, 100)\n    }\n  }\n\n\n  function run_callbacks() {\n    try {\n      root._bokeh_onload_callbacks.forEach(function(callback) {\n        if (callback != null)\n          callback();\n      });\n    } finally {\n      delete root._bokeh_onload_callbacks\n    }\n    console.debug(\"Bokeh: all callbacks have finished\");\n  }\n\n  function load_libs(css_urls, js_urls, callback) {\n    if (css_urls == null) css_urls = [];\n    if (js_urls == null) js_urls = [];\n\n    root._bokeh_onload_callbacks.push(callback);\n    if (root._bokeh_is_loading > 0) {\n      console.debug(\"Bokeh: BokehJS is being loaded, scheduling callback at\", now());\n      return null;\n    }\n    if (js_urls == null || js_urls.length === 0) {\n      run_callbacks();\n      return null;\n    }\n    console.debug(\"Bokeh: BokehJS not loaded, scheduling load and callback at\", now());\n    root._bokeh_is_loading = css_urls.length + js_urls.length;\n\n    function on_load() {\n      root._bokeh_is_loading--;\n      if (root._bokeh_is_loading === 0) {\n        console.debug(\"Bokeh: all BokehJS libraries/stylesheets loaded\");\n        run_callbacks()\n      }\n    }\n\n    function on_error() {\n      console.error(\"failed to load \" + url);\n    }\n\n    for (var i = 0; i < css_urls.length; i++) {\n      var url = css_urls[i];\n      const element = document.createElement(\"link\");\n      element.onload = on_load;\n      element.onerror = on_error;\n      element.rel = \"stylesheet\";\n      element.type = \"text/css\";\n      element.href = url;\n      console.debug(\"Bokeh: injecting link tag for BokehJS stylesheet: \", url);\n      document.body.appendChild(element);\n    }\n\n    for (var i = 0; i < js_urls.length; i++) {\n      var url = js_urls[i];\n      var element = document.createElement('script');\n      element.onload = on_load;\n      element.onerror = on_error;\n      element.async = false;\n      element.src = url;\n      console.debug(\"Bokeh: injecting script tag for BokehJS library: \", url);\n      document.head.appendChild(element);\n    }\n  };var element = document.getElementById(\"1002\");\n  if (element == null) {\n    console.error(\"Bokeh: ERROR: autoload.js configured with elementid '1002' but no matching script tag was found. \")\n    return false;\n  }\n\n  function inject_raw_css(css) {\n    const element = document.createElement(\"style\");\n    element.appendChild(document.createTextNode(css));\n    document.body.appendChild(element);\n  }\n\n  var js_urls = [\"https://cdn.pydata.org/bokeh/release/bokeh-1.3.4.min.js\", \"https://cdn.pydata.org/bokeh/release/bokeh-widgets-1.3.4.min.js\", \"https://cdn.pydata.org/bokeh/release/bokeh-tables-1.3.4.min.js\", \"https://cdn.pydata.org/bokeh/release/bokeh-gl-1.3.4.min.js\"];\n  var css_urls = [];\n\n  var inline_js = [\n    function(Bokeh) {\n      Bokeh.set_log_level(\"info\");\n    },\n    \n    function(Bokeh) {\n      \n    },\n    function(Bokeh) {} // ensure no trailing comma for IE\n  ];\n\n  function run_inline_js() {\n    \n    if ((root.Bokeh !== undefined) || (force === true)) {\n      for (var i = 0; i < inline_js.length; i++) {\n        inline_js[i].call(root, root.Bokeh);\n      }if (force === true) {\n        display_loaded();\n      }} else if (Date.now() < root._bokeh_timeout) {\n      setTimeout(run_inline_js, 100);\n    } else if (!root._bokeh_failed_load) {\n      console.log(\"Bokeh: BokehJS failed to load within specified timeout.\");\n      root._bokeh_failed_load = true;\n    } else if (force !== true) {\n      var cell = $(document.getElementById(\"1002\")).parents('.cell').data().cell;\n      cell.output_area.append_execute_result(NB_LOAD_WARNING)\n    }\n\n  }\n\n  if (root._bokeh_is_loading === 0) {\n    console.debug(\"Bokeh: BokehJS loaded, going straight to plotting\");\n    run_inline_js();\n  } else {\n    load_libs(css_urls, js_urls, function() {\n      console.debug(\"Bokeh: BokehJS plotting callback run at\", now());\n      run_inline_js();\n    });\n  }\n}(window));"
     },
     "metadata": {},
     "output_type": "display_data"
    }
   ],
   "source": [
    "output_notebook()"
   ]
  },
  {
   "cell_type": "code",
   "execution_count": 6,
   "metadata": {},
   "outputs": [
    {
     "data": {
      "text/html": [
       "<div>\n",
       "<style scoped>\n",
       "    .dataframe tbody tr th:only-of-type {\n",
       "        vertical-align: middle;\n",
       "    }\n",
       "\n",
       "    .dataframe tbody tr th {\n",
       "        vertical-align: top;\n",
       "    }\n",
       "\n",
       "    .dataframe thead th {\n",
       "        text-align: right;\n",
       "    }\n",
       "</style>\n",
       "<table border=\"1\" class=\"dataframe\">\n",
       "  <thead>\n",
       "    <tr style=\"text-align: right;\">\n",
       "      <th>race</th>\n",
       "      <th>age</th>\n",
       "      <th>African-American</th>\n",
       "      <th>Asian</th>\n",
       "      <th>Caucasian</th>\n",
       "      <th>Hispanic</th>\n",
       "      <th>Native American</th>\n",
       "      <th>Other</th>\n",
       "    </tr>\n",
       "  </thead>\n",
       "  <tbody>\n",
       "    <tr>\n",
       "      <td>0</td>\n",
       "      <td>18</td>\n",
       "      <td>2.0</td>\n",
       "      <td>0.0</td>\n",
       "      <td>1.0</td>\n",
       "      <td>0.0</td>\n",
       "      <td>0.0</td>\n",
       "      <td>0.0</td>\n",
       "    </tr>\n",
       "    <tr>\n",
       "      <td>1</td>\n",
       "      <td>19</td>\n",
       "      <td>22.0</td>\n",
       "      <td>0.0</td>\n",
       "      <td>9.0</td>\n",
       "      <td>2.0</td>\n",
       "      <td>0.0</td>\n",
       "      <td>1.0</td>\n",
       "    </tr>\n",
       "    <tr>\n",
       "      <td>2</td>\n",
       "      <td>20</td>\n",
       "      <td>109.0</td>\n",
       "      <td>1.0</td>\n",
       "      <td>44.0</td>\n",
       "      <td>12.0</td>\n",
       "      <td>1.0</td>\n",
       "      <td>16.0</td>\n",
       "    </tr>\n",
       "    <tr>\n",
       "      <td>3</td>\n",
       "      <td>21</td>\n",
       "      <td>191.0</td>\n",
       "      <td>1.0</td>\n",
       "      <td>76.0</td>\n",
       "      <td>31.0</td>\n",
       "      <td>1.0</td>\n",
       "      <td>18.0</td>\n",
       "    </tr>\n",
       "    <tr>\n",
       "      <td>4</td>\n",
       "      <td>22</td>\n",
       "      <td>187.0</td>\n",
       "      <td>1.0</td>\n",
       "      <td>83.0</td>\n",
       "      <td>24.0</td>\n",
       "      <td>1.0</td>\n",
       "      <td>9.0</td>\n",
       "    </tr>\n",
       "    <tr>\n",
       "      <td>...</td>\n",
       "      <td>...</td>\n",
       "      <td>...</td>\n",
       "      <td>...</td>\n",
       "      <td>...</td>\n",
       "      <td>...</td>\n",
       "      <td>...</td>\n",
       "      <td>...</td>\n",
       "    </tr>\n",
       "    <tr>\n",
       "      <td>60</td>\n",
       "      <td>78</td>\n",
       "      <td>0.0</td>\n",
       "      <td>0.0</td>\n",
       "      <td>1.0</td>\n",
       "      <td>0.0</td>\n",
       "      <td>0.0</td>\n",
       "      <td>0.0</td>\n",
       "    </tr>\n",
       "    <tr>\n",
       "      <td>61</td>\n",
       "      <td>79</td>\n",
       "      <td>0.0</td>\n",
       "      <td>0.0</td>\n",
       "      <td>1.0</td>\n",
       "      <td>0.0</td>\n",
       "      <td>0.0</td>\n",
       "      <td>0.0</td>\n",
       "    </tr>\n",
       "    <tr>\n",
       "      <td>62</td>\n",
       "      <td>80</td>\n",
       "      <td>0.0</td>\n",
       "      <td>0.0</td>\n",
       "      <td>1.0</td>\n",
       "      <td>0.0</td>\n",
       "      <td>0.0</td>\n",
       "      <td>0.0</td>\n",
       "    </tr>\n",
       "    <tr>\n",
       "      <td>63</td>\n",
       "      <td>83</td>\n",
       "      <td>0.0</td>\n",
       "      <td>0.0</td>\n",
       "      <td>1.0</td>\n",
       "      <td>1.0</td>\n",
       "      <td>0.0</td>\n",
       "      <td>0.0</td>\n",
       "    </tr>\n",
       "    <tr>\n",
       "      <td>64</td>\n",
       "      <td>96</td>\n",
       "      <td>0.0</td>\n",
       "      <td>0.0</td>\n",
       "      <td>0.0</td>\n",
       "      <td>1.0</td>\n",
       "      <td>0.0</td>\n",
       "      <td>0.0</td>\n",
       "    </tr>\n",
       "  </tbody>\n",
       "</table>\n",
       "<p>65 rows × 7 columns</p>\n",
       "</div>"
      ],
      "text/plain": [
       "race  age  African-American  Asian  Caucasian  Hispanic  Native American  \\\n",
       "0      18               2.0    0.0        1.0       0.0              0.0   \n",
       "1      19              22.0    0.0        9.0       2.0              0.0   \n",
       "2      20             109.0    1.0       44.0      12.0              1.0   \n",
       "3      21             191.0    1.0       76.0      31.0              1.0   \n",
       "4      22             187.0    1.0       83.0      24.0              1.0   \n",
       "..    ...               ...    ...        ...       ...              ...   \n",
       "60     78               0.0    0.0        1.0       0.0              0.0   \n",
       "61     79               0.0    0.0        1.0       0.0              0.0   \n",
       "62     80               0.0    0.0        1.0       0.0              0.0   \n",
       "63     83               0.0    0.0        1.0       1.0              0.0   \n",
       "64     96               0.0    0.0        0.0       1.0              0.0   \n",
       "\n",
       "race  Other  \n",
       "0       0.0  \n",
       "1       1.0  \n",
       "2      16.0  \n",
       "3      18.0  \n",
       "4       9.0  \n",
       "..      ...  \n",
       "60      0.0  \n",
       "61      0.0  \n",
       "62      0.0  \n",
       "63      0.0  \n",
       "64      0.0  \n",
       "\n",
       "[65 rows x 7 columns]"
      ]
     },
     "execution_count": 6,
     "metadata": {},
     "output_type": "execute_result"
    }
   ],
   "source": [
    "df3"
   ]
  },
  {
   "cell_type": "code",
   "execution_count": 7,
   "metadata": {},
   "outputs": [
    {
     "data": {
      "text/plain": [
       "['African-American',\n",
       " 'Asian',\n",
       " 'Caucasian',\n",
       " 'Hispanic',\n",
       " 'Native American',\n",
       " 'Other']"
      ]
     },
     "execution_count": 7,
     "metadata": {},
     "output_type": "execute_result"
    }
   ],
   "source": [
    "races = list(df3.columns[1:])\n",
    "races"
   ]
  },
  {
   "cell_type": "code",
   "execution_count": 8,
   "metadata": {},
   "outputs": [],
   "source": [
    "\n",
    "p = figure(height=250, title=\"Recid Counts\", toolbar_location=None)"
   ]
  },
  {
   "cell_type": "code",
   "execution_count": 9,
   "metadata": {},
   "outputs": [],
   "source": [
    "\n",
    "\n",
    "bar ={} # to store vbars \n",
    "  # here we will do a for loop to create a bar for each race\n",
    "for indx,i in enumerate(races):\n",
    "    bar[i] = p.vbar(x='age',top=i, source= source_df, width=0.5)\n"
   ]
  },
  {
   "cell_type": "code",
   "execution_count": 10,
   "metadata": {},
   "outputs": [
    {
     "name": "stderr",
     "output_type": "stream",
     "text": [
      "C:\\Users\\Jennifer\\Anaconda3\\lib\\site-packages\\bokeh\\models\\plots.py:756: UserWarning: \n",
      "You are attempting to set `plot.legend.click_policy` on a plot that has zero legends added, this will have no effect.\n",
      "\n",
      "Before legend properties can be set, you must add a Legend explicitly, or call a glyph method with the 'legend' parameter set.\n",
      "\n",
      "  warnings.warn(_LEGEND_EMPTY_WARNING % attr)\n"
     ]
    },
    {
     "data": {
      "text/html": [
       "\n",
       "\n",
       "\n",
       "\n",
       "\n",
       "\n",
       "  <div class=\"bk-root\" id=\"51e7d069-73ad-4c85-b8e7-3b037c230d73\" data-root-id=\"1003\"></div>\n"
      ]
     },
     "metadata": {},
     "output_type": "display_data"
    },
    {
     "data": {
      "application/javascript": [
       "(function(root) {\n",
       "  function embed_document(root) {\n",
       "    \n",
       "  var docs_json = {\"4680f0fa-3305-48b7-a8a5-c33eca33333d\":{\"roots\":{\"references\":[{\"attributes\":{\"below\":[{\"id\":\"1014\",\"type\":\"LinearAxis\"}],\"center\":[{\"id\":\"1018\",\"type\":\"Grid\"},{\"id\":\"1023\",\"type\":\"Grid\"}],\"left\":[{\"id\":\"1019\",\"type\":\"LinearAxis\"}],\"plot_height\":250,\"renderers\":[{\"id\":\"1040\",\"type\":\"GlyphRenderer\"},{\"id\":\"1045\",\"type\":\"GlyphRenderer\"},{\"id\":\"1050\",\"type\":\"GlyphRenderer\"},{\"id\":\"1055\",\"type\":\"GlyphRenderer\"},{\"id\":\"1060\",\"type\":\"GlyphRenderer\"},{\"id\":\"1065\",\"type\":\"GlyphRenderer\"}],\"title\":{\"id\":\"1004\",\"type\":\"Title\"},\"toolbar\":{\"id\":\"1030\",\"type\":\"Toolbar\"},\"toolbar_location\":null,\"x_range\":{\"id\":\"1006\",\"type\":\"DataRange1d\"},\"x_scale\":{\"id\":\"1010\",\"type\":\"LinearScale\"},\"y_range\":{\"id\":\"1008\",\"type\":\"DataRange1d\"},\"y_scale\":{\"id\":\"1012\",\"type\":\"LinearScale\"}},\"id\":\"1003\",\"subtype\":\"Figure\",\"type\":\"Plot\"},{\"attributes\":{\"formatter\":{\"id\":\"1068\",\"type\":\"BasicTickFormatter\"},\"ticker\":{\"id\":\"1015\",\"type\":\"BasicTicker\"}},\"id\":\"1014\",\"type\":\"LinearAxis\"},{\"attributes\":{},\"id\":\"1010\",\"type\":\"LinearScale\"},{\"attributes\":{\"source\":{\"id\":\"1001\",\"type\":\"ColumnDataSource\"}},\"id\":\"1051\",\"type\":\"CDSView\"},{\"attributes\":{\"fill_color\":{\"value\":\"#1f77b4\"},\"line_color\":{\"value\":\"#1f77b4\"},\"top\":{\"field\":\"Other\"},\"width\":{\"value\":0.5},\"x\":{\"field\":\"age\"}},\"id\":\"1063\",\"type\":\"VBar\"},{\"attributes\":{},\"id\":\"1027\",\"type\":\"SaveTool\"},{\"attributes\":{\"fill_color\":{\"value\":\"#1f77b4\"},\"line_color\":{\"value\":\"#1f77b4\"},\"top\":{\"field\":\"Asian\"},\"width\":{\"value\":0.5},\"x\":{\"field\":\"age\"}},\"id\":\"1043\",\"type\":\"VBar\"},{\"attributes\":{\"callback\":null},\"id\":\"1006\",\"type\":\"DataRange1d\"},{\"attributes\":{\"ticker\":{\"id\":\"1015\",\"type\":\"BasicTicker\"}},\"id\":\"1018\",\"type\":\"Grid\"},{\"attributes\":{\"active_drag\":\"auto\",\"active_inspect\":\"auto\",\"active_multi\":null,\"active_scroll\":\"auto\",\"active_tap\":\"auto\",\"tools\":[{\"id\":\"1024\",\"type\":\"PanTool\"},{\"id\":\"1025\",\"type\":\"WheelZoomTool\"},{\"id\":\"1026\",\"type\":\"BoxZoomTool\"},{\"id\":\"1027\",\"type\":\"SaveTool\"},{\"id\":\"1028\",\"type\":\"ResetTool\"},{\"id\":\"1029\",\"type\":\"HelpTool\"}]},\"id\":\"1030\",\"type\":\"Toolbar\"},{\"attributes\":{\"fill_alpha\":{\"value\":0.1},\"fill_color\":{\"value\":\"#1f77b4\"},\"line_alpha\":{\"value\":0.1},\"line_color\":{\"value\":\"#1f77b4\"},\"top\":{\"field\":\"Other\"},\"width\":{\"value\":0.5},\"x\":{\"field\":\"age\"}},\"id\":\"1064\",\"type\":\"VBar\"},{\"attributes\":{\"fill_color\":{\"value\":\"#1f77b4\"},\"line_color\":{\"value\":\"#1f77b4\"},\"top\":{\"field\":\"African-American\"},\"width\":{\"value\":0.5},\"x\":{\"field\":\"age\"}},\"id\":\"1038\",\"type\":\"VBar\"},{\"attributes\":{\"data_source\":{\"id\":\"1001\",\"type\":\"ColumnDataSource\"},\"glyph\":{\"id\":\"1063\",\"type\":\"VBar\"},\"hover_glyph\":null,\"muted_glyph\":null,\"nonselection_glyph\":{\"id\":\"1064\",\"type\":\"VBar\"},\"selection_glyph\":null,\"view\":{\"id\":\"1066\",\"type\":\"CDSView\"}},\"id\":\"1065\",\"type\":\"GlyphRenderer\"},{\"attributes\":{\"overlay\":{\"id\":\"1074\",\"type\":\"BoxAnnotation\"}},\"id\":\"1026\",\"type\":\"BoxZoomTool\"},{\"attributes\":{},\"id\":\"1025\",\"type\":\"WheelZoomTool\"},{\"attributes\":{\"text\":\"Recid Counts\"},\"id\":\"1004\",\"type\":\"Title\"},{\"attributes\":{\"fill_color\":{\"value\":\"#1f77b4\"},\"line_color\":{\"value\":\"#1f77b4\"},\"top\":{\"field\":\"Native American\"},\"width\":{\"value\":0.5},\"x\":{\"field\":\"age\"}},\"id\":\"1058\",\"type\":\"VBar\"},{\"attributes\":{},\"id\":\"1073\",\"type\":\"UnionRenderers\"},{\"attributes\":{\"data_source\":{\"id\":\"1001\",\"type\":\"ColumnDataSource\"},\"glyph\":{\"id\":\"1058\",\"type\":\"VBar\"},\"hover_glyph\":null,\"muted_glyph\":null,\"nonselection_glyph\":{\"id\":\"1059\",\"type\":\"VBar\"},\"selection_glyph\":null,\"view\":{\"id\":\"1061\",\"type\":\"CDSView\"}},\"id\":\"1060\",\"type\":\"GlyphRenderer\"},{\"attributes\":{\"source\":{\"id\":\"1001\",\"type\":\"ColumnDataSource\"}},\"id\":\"1046\",\"type\":\"CDSView\"},{\"attributes\":{\"source\":{\"id\":\"1001\",\"type\":\"ColumnDataSource\"}},\"id\":\"1066\",\"type\":\"CDSView\"},{\"attributes\":{\"formatter\":{\"id\":\"1070\",\"type\":\"BasicTickFormatter\"},\"ticker\":{\"id\":\"1020\",\"type\":\"BasicTicker\"}},\"id\":\"1019\",\"type\":\"LinearAxis\"},{\"attributes\":{\"callback\":null},\"id\":\"1008\",\"type\":\"DataRange1d\"},{\"attributes\":{\"data_source\":{\"id\":\"1001\",\"type\":\"ColumnDataSource\"},\"glyph\":{\"id\":\"1043\",\"type\":\"VBar\"},\"hover_glyph\":null,\"muted_glyph\":null,\"nonselection_glyph\":{\"id\":\"1044\",\"type\":\"VBar\"},\"selection_glyph\":null,\"view\":{\"id\":\"1046\",\"type\":\"CDSView\"}},\"id\":\"1045\",\"type\":\"GlyphRenderer\"},{\"attributes\":{},\"id\":\"1072\",\"type\":\"Selection\"},{\"attributes\":{\"fill_alpha\":{\"value\":0.1},\"fill_color\":{\"value\":\"#1f77b4\"},\"line_alpha\":{\"value\":0.1},\"line_color\":{\"value\":\"#1f77b4\"},\"top\":{\"field\":\"Asian\"},\"width\":{\"value\":0.5},\"x\":{\"field\":\"age\"}},\"id\":\"1044\",\"type\":\"VBar\"},{\"attributes\":{\"fill_color\":{\"value\":\"#1f77b4\"},\"line_color\":{\"value\":\"#1f77b4\"},\"top\":{\"field\":\"Caucasian\"},\"width\":{\"value\":0.5},\"x\":{\"field\":\"age\"}},\"id\":\"1048\",\"type\":\"VBar\"},{\"attributes\":{},\"id\":\"1028\",\"type\":\"ResetTool\"},{\"attributes\":{},\"id\":\"1070\",\"type\":\"BasicTickFormatter\"},{\"attributes\":{},\"id\":\"1068\",\"type\":\"BasicTickFormatter\"},{\"attributes\":{\"data_source\":{\"id\":\"1001\",\"type\":\"ColumnDataSource\"},\"glyph\":{\"id\":\"1053\",\"type\":\"VBar\"},\"hover_glyph\":null,\"muted_glyph\":null,\"nonselection_glyph\":{\"id\":\"1054\",\"type\":\"VBar\"},\"selection_glyph\":null,\"view\":{\"id\":\"1056\",\"type\":\"CDSView\"}},\"id\":\"1055\",\"type\":\"GlyphRenderer\"},{\"attributes\":{\"source\":{\"id\":\"1001\",\"type\":\"ColumnDataSource\"}},\"id\":\"1041\",\"type\":\"CDSView\"},{\"attributes\":{},\"id\":\"1020\",\"type\":\"BasicTicker\"},{\"attributes\":{\"fill_color\":{\"value\":\"#1f77b4\"},\"line_color\":{\"value\":\"#1f77b4\"},\"top\":{\"field\":\"Hispanic\"},\"width\":{\"value\":0.5},\"x\":{\"field\":\"age\"}},\"id\":\"1053\",\"type\":\"VBar\"},{\"attributes\":{},\"id\":\"1029\",\"type\":\"HelpTool\"},{\"attributes\":{\"fill_alpha\":{\"value\":0.1},\"fill_color\":{\"value\":\"#1f77b4\"},\"line_alpha\":{\"value\":0.1},\"line_color\":{\"value\":\"#1f77b4\"},\"top\":{\"field\":\"Caucasian\"},\"width\":{\"value\":0.5},\"x\":{\"field\":\"age\"}},\"id\":\"1049\",\"type\":\"VBar\"},{\"attributes\":{\"fill_alpha\":{\"value\":0.1},\"fill_color\":{\"value\":\"#1f77b4\"},\"line_alpha\":{\"value\":0.1},\"line_color\":{\"value\":\"#1f77b4\"},\"top\":{\"field\":\"African-American\"},\"width\":{\"value\":0.5},\"x\":{\"field\":\"age\"}},\"id\":\"1039\",\"type\":\"VBar\"},{\"attributes\":{},\"id\":\"1012\",\"type\":\"LinearScale\"},{\"attributes\":{},\"id\":\"1024\",\"type\":\"PanTool\"},{\"attributes\":{\"data_source\":{\"id\":\"1001\",\"type\":\"ColumnDataSource\"},\"glyph\":{\"id\":\"1038\",\"type\":\"VBar\"},\"hover_glyph\":null,\"muted_glyph\":null,\"nonselection_glyph\":{\"id\":\"1039\",\"type\":\"VBar\"},\"selection_glyph\":null,\"view\":{\"id\":\"1041\",\"type\":\"CDSView\"}},\"id\":\"1040\",\"type\":\"GlyphRenderer\"},{\"attributes\":{\"callback\":null,\"data\":{\"African-American\":{\"__ndarray__\":\"AAAAAAAAAEAAAAAAAAA2QAAAAAAAQFtAAAAAAADgZ0AAAAAAAGBnQAAAAAAAAGlAAAAAAAAgakAAAAAAAGBoQAAAAAAAwGhAAAAAAAAAaUAAAAAAAMBjQAAAAAAAwGRAAAAAAACAZEAAAAAAAOBgQAAAAAAAwF5AAAAAAACAW0AAAAAAAEBbQAAAAAAAwFpAAAAAAABAVUAAAAAAAEBVQAAAAAAAAFBAAAAAAAAATEAAAAAAAABEQAAAAAAAAE1AAAAAAACASUAAAAAAAIBIQAAAAAAAgERAAAAAAACARUAAAAAAAABDQAAAAAAAgERAAAAAAAAAQEAAAAAAAABAQAAAAAAAAD9AAAAAAAAAR0AAAAAAAABFQAAAAAAAAD5AAAAAAAAAPkAAAAAAAAA4QAAAAAAAgEFAAAAAAAAAPEAAAAAAAAAuQAAAAAAAADdAAAAAAAAAKkAAAAAAAAAzQAAAAAAAACBAAAAAAAAAKEAAAAAAAAAgQAAAAAAAABBAAAAAAAAAHEAAAAAAAAAUQAAAAAAAABBAAAAAAAAAEEAAAAAAAAAAQAAAAAAAAABAAAAAAAAAAAAAAAAAAAAAAAAAAAAAAPA/AAAAAAAA8D8AAAAAAAAAAAAAAAAAAABAAAAAAAAAAAAAAAAAAAAAAAAAAAAAAAAAAAAAAAAAAAAAAAAAAAAAAA==\",\"dtype\":\"float64\",\"shape\":[65]},\"Asian\":{\"__ndarray__\":\"AAAAAAAAAAAAAAAAAAAAAAAAAAAAAPA/AAAAAAAA8D8AAAAAAADwPwAAAAAAAAAAAAAAAAAAEEAAAAAAAAAAAAAAAAAAAPA/AAAAAAAAAAAAAAAAAADwPwAAAAAAAPA/AAAAAAAA8D8AAAAAAAAAAAAAAAAAAPA/AAAAAAAA8D8AAAAAAAAAQAAAAAAAAPA/AAAAAAAA8D8AAAAAAAAAAAAAAAAAAABAAAAAAAAAAAAAAAAAAADwPwAAAAAAAPA/AAAAAAAAAAAAAAAAAAAAAAAAAAAAAAAAAAAAAAAA8D8AAAAAAAAAQAAAAAAAAPA/AAAAAAAAAEAAAAAAAAAAAAAAAAAAAPA/AAAAAAAA8D8AAAAAAADwPwAAAAAAAAAAAAAAAAAAAAAAAAAAAAAAAAAAAAAAAAAAAAAAAAAAAAAAAAAAAAAAAAAAAAAAAAAAAAAAAAAAAAAAAAAAAAAAAAAAAAAAAAAAAAAAAAAAAAAAAAAAAAAAAAAAAAAAAAAAAAAAAAAAAAAAAAAAAADwPwAAAAAAAAAAAAAAAAAAAAAAAAAAAAAAAAAAAAAAAAAAAAAAAAAAAAAAAAAAAAAAAAAAAAAAAAAAAAAAAAAAAAAAAAAAAADwPwAAAAAAAAAAAAAAAAAAAAAAAAAAAAAAAAAAAAAAAAAAAAAAAAAAAAAAAAAAAAAAAA==\",\"dtype\":\"float64\",\"shape\":[65]},\"Caucasian\":{\"__ndarray__\":\"AAAAAAAA8D8AAAAAAAAiQAAAAAAAAEZAAAAAAAAAU0AAAAAAAMBUQAAAAAAAAFJAAAAAAABAWkAAAAAAAEBYQAAAAAAAQFhAAAAAAACAVUAAAAAAAMBVQAAAAAAAwFRAAAAAAABAVUAAAAAAAIBTQAAAAAAAgE9AAAAAAACAUUAAAAAAAIBPQAAAAAAAAEZAAAAAAACATEAAAAAAAABNQAAAAAAAAEhAAAAAAABAUUAAAAAAAABEQAAAAAAAgEVAAAAAAACAREAAAAAAAABJQAAAAAAAgEpAAAAAAAAARUAAAAAAAIBLQAAAAAAAgERAAAAAAACAQ0AAAAAAAIBIQAAAAAAAgEpAAAAAAACASEAAAAAAAABEQAAAAAAAAEZAAAAAAAAAQkAAAAAAAABFQAAAAAAAgEZAAAAAAAAAQEAAAAAAAAA9QAAAAAAAADZAAAAAAAAAKkAAAAAAAAA0QAAAAAAAAChAAAAAAAAAJEAAAAAAAAAgQAAAAAAAAChAAAAAAAAAKEAAAAAAAAAoQAAAAAAAABBAAAAAAAAAIkAAAAAAAAAIQAAAAAAAAAhAAAAAAAAACEAAAAAAAADwPwAAAAAAABBAAAAAAAAAAEAAAAAAAAAAAAAAAAAAAABAAAAAAAAA8D8AAAAAAADwPwAAAAAAAPA/AAAAAAAA8D8AAAAAAAAAAA==\",\"dtype\":\"float64\",\"shape\":[65]},\"Hispanic\":{\"__ndarray__\":\"AAAAAAAAAAAAAAAAAAAAQAAAAAAAAChAAAAAAAAAP0AAAAAAAAA4QAAAAAAAAD9AAAAAAAAAO0AAAAAAAAA2QAAAAAAAADhAAAAAAAAANUAAAAAAAAA5QAAAAAAAADNAAAAAAAAAOkAAAAAAAAA7QAAAAAAAADZAAAAAAAAAMUAAAAAAAAAxQAAAAAAAADVAAAAAAAAAMUAAAAAAAAA9QAAAAAAAADFAAAAAAAAAKEAAAAAAAAAmQAAAAAAAACpAAAAAAAAAFEAAAAAAAAAgQAAAAAAAACxAAAAAAAAAMkAAAAAAAAAcQAAAAAAAACRAAAAAAAAAIEAAAAAAAAAQQAAAAAAAACJAAAAAAAAAJEAAAAAAAAAkQAAAAAAAACJAAAAAAAAAGEAAAAAAAAAcQAAAAAAAACBAAAAAAAAAFEAAAAAAAAAQQAAAAAAAABBAAAAAAAAAEEAAAAAAAAAIQAAAAAAAAAhAAAAAAAAAAEAAAAAAAAAAQAAAAAAAAPA/AAAAAAAAAAAAAAAAAAAIQAAAAAAAAPA/AAAAAAAAAEAAAAAAAAAAAAAAAAAAAAAAAAAAAAAAAAAAAAAAAAAAAAAAAAAAAAAAAAAAAAAA8D8AAAAAAAAAAAAAAAAAAAAAAAAAAAAAAAAAAAAAAAAAAAAAAAAAAAAAAAAAAAAA8D8AAAAAAADwPw==\",\"dtype\":\"float64\",\"shape\":[65]},\"Native American\":{\"__ndarray__\":\"AAAAAAAAAAAAAAAAAAAAAAAAAAAAAPA/AAAAAAAA8D8AAAAAAADwPwAAAAAAAAAAAAAAAAAAAAAAAAAAAADwPwAAAAAAAPA/AAAAAAAA8D8AAAAAAADwPwAAAAAAAPA/AAAAAAAAAAAAAAAAAAAAAAAAAAAAAAAAAAAAAAAAAEAAAAAAAADwPwAAAAAAAAAAAAAAAAAAAAAAAAAAAADwPwAAAAAAAPA/AAAAAAAAAAAAAAAAAADwPwAAAAAAAAAAAAAAAAAA8D8AAAAAAAAAAAAAAAAAAAAAAAAAAAAAAEAAAAAAAAAAAAAAAAAAAPA/AAAAAAAAAAAAAAAAAAAAAAAAAAAAAAAAAAAAAAAAAAAAAAAAAAAAAAAAAAAAAAAAAAAAAAAAAAAAAAAAAAAAAAAAAAAAAAAAAAAAAAAAAAAAAAAAAAAAAAAAAAAAAAAAAAAAAAAAAAAAAAAAAAAAAAAAAAAAAAAAAAAAAAAAAAAAAAAAAAAAAAAAAAAAAAAAAAAAAAAAAAAAAAAAAAAAAAAAAAAAAAAAAAAAAAAAAAAAAAAAAAAAAAAAAAAAAAAAAAAAAAAAAAAAAAAAAAAAAAAAAAAAAAAAAAAAAAAAAAAAAAAAAAAAAAAAAAAAAAAAAAAAAAAAAAAAAAAAAAAAAAAAAAAAAAAAAAAAAAAAAAAAAAAAAAAAAA==\",\"dtype\":\"float64\",\"shape\":[65]},\"Other\":{\"__ndarray__\":\"AAAAAAAAAAAAAAAAAADwPwAAAAAAADBAAAAAAAAAMkAAAAAAAAAiQAAAAAAAADJAAAAAAAAANEAAAAAAAAAxQAAAAAAAACZAAAAAAAAAKkAAAAAAAAAcQAAAAAAAACpAAAAAAAAANUAAAAAAAAAwQAAAAAAAACZAAAAAAAAALkAAAAAAAAAiQAAAAAAAABBAAAAAAAAAJkAAAAAAAAAqQAAAAAAAACZAAAAAAAAAJEAAAAAAAAAiQAAAAAAAAAhAAAAAAAAAGEAAAAAAAAAcQAAAAAAAAAhAAAAAAAAAHEAAAAAAAAAYQAAAAAAAABRAAAAAAAAAJkAAAAAAAAAUQAAAAAAAAABAAAAAAAAAEEAAAAAAAAAUQAAAAAAAABBAAAAAAAAAGEAAAAAAAAAIQAAAAAAAABRAAAAAAAAAFEAAAAAAAAAIQAAAAAAAAAhAAAAAAAAACEAAAAAAAADwPwAAAAAAAPA/AAAAAAAA8D8AAAAAAADwPwAAAAAAAAAAAAAAAAAA8D8AAAAAAAAAAAAAAAAAAAAAAAAAAAAAAEAAAAAAAADwPwAAAAAAAAAAAAAAAAAAAAAAAAAAAAAAAAAAAAAAAAAAAAAAAAAAAAAAAAAAAAAAAAAAAAAAAAAAAAAAAAAAAAAAAAAAAAAAAAAAAAAAAAAAAAAAAAAAAAAAAAAAAAAAAA==\",\"dtype\":\"float64\",\"shape\":[65]},\"age\":[18,19,20,21,22,23,24,25,26,27,28,29,30,31,32,33,34,35,36,37,38,39,40,41,42,43,44,45,46,47,48,49,50,51,52,53,54,55,56,57,58,59,60,61,62,63,64,65,66,67,68,69,70,71,72,73,74,75,76,77,78,79,80,83,96],\"index\":[0,1,2,3,4,5,6,7,8,9,10,11,12,13,14,15,16,17,18,19,20,21,22,23,24,25,26,27,28,29,30,31,32,33,34,35,36,37,38,39,40,41,42,43,44,45,46,47,48,49,50,51,52,53,54,55,56,57,58,59,60,61,62,63,64]},\"selected\":{\"id\":\"1072\",\"type\":\"Selection\"},\"selection_policy\":{\"id\":\"1073\",\"type\":\"UnionRenderers\"}},\"id\":\"1001\",\"type\":\"ColumnDataSource\"},{\"attributes\":{\"bottom_units\":\"screen\",\"fill_alpha\":{\"value\":0.5},\"fill_color\":{\"value\":\"lightgrey\"},\"left_units\":\"screen\",\"level\":\"overlay\",\"line_alpha\":{\"value\":1.0},\"line_color\":{\"value\":\"black\"},\"line_dash\":[4,4],\"line_width\":{\"value\":2},\"render_mode\":\"css\",\"right_units\":\"screen\",\"top_units\":\"screen\"},\"id\":\"1074\",\"type\":\"BoxAnnotation\"},{\"attributes\":{\"fill_alpha\":{\"value\":0.1},\"fill_color\":{\"value\":\"#1f77b4\"},\"line_alpha\":{\"value\":0.1},\"line_color\":{\"value\":\"#1f77b4\"},\"top\":{\"field\":\"Hispanic\"},\"width\":{\"value\":0.5},\"x\":{\"field\":\"age\"}},\"id\":\"1054\",\"type\":\"VBar\"},{\"attributes\":{\"data_source\":{\"id\":\"1001\",\"type\":\"ColumnDataSource\"},\"glyph\":{\"id\":\"1048\",\"type\":\"VBar\"},\"hover_glyph\":null,\"muted_glyph\":null,\"nonselection_glyph\":{\"id\":\"1049\",\"type\":\"VBar\"},\"selection_glyph\":null,\"view\":{\"id\":\"1051\",\"type\":\"CDSView\"}},\"id\":\"1050\",\"type\":\"GlyphRenderer\"},{\"attributes\":{\"fill_alpha\":{\"value\":0.1},\"fill_color\":{\"value\":\"#1f77b4\"},\"line_alpha\":{\"value\":0.1},\"line_color\":{\"value\":\"#1f77b4\"},\"top\":{\"field\":\"Native American\"},\"width\":{\"value\":0.5},\"x\":{\"field\":\"age\"}},\"id\":\"1059\",\"type\":\"VBar\"},{\"attributes\":{\"dimension\":1,\"ticker\":{\"id\":\"1020\",\"type\":\"BasicTicker\"}},\"id\":\"1023\",\"type\":\"Grid\"},{\"attributes\":{\"source\":{\"id\":\"1001\",\"type\":\"ColumnDataSource\"}},\"id\":\"1061\",\"type\":\"CDSView\"},{\"attributes\":{\"source\":{\"id\":\"1001\",\"type\":\"ColumnDataSource\"}},\"id\":\"1056\",\"type\":\"CDSView\"},{\"attributes\":{},\"id\":\"1015\",\"type\":\"BasicTicker\"}],\"root_ids\":[\"1003\"]},\"title\":\"Bokeh Application\",\"version\":\"1.3.4\"}};\n",
       "  var render_items = [{\"docid\":\"4680f0fa-3305-48b7-a8a5-c33eca33333d\",\"roots\":{\"1003\":\"51e7d069-73ad-4c85-b8e7-3b037c230d73\"}}];\n",
       "  root.Bokeh.embed.embed_items_notebook(docs_json, render_items);\n",
       "\n",
       "  }\n",
       "  if (root.Bokeh !== undefined) {\n",
       "    embed_document(root);\n",
       "  } else {\n",
       "    var attempts = 0;\n",
       "    var timer = setInterval(function(root) {\n",
       "      if (root.Bokeh !== undefined) {\n",
       "        embed_document(root);\n",
       "        clearInterval(timer);\n",
       "      }\n",
       "      attempts++;\n",
       "      if (attempts > 100) {\n",
       "        console.log(\"Bokeh: ERROR: Unable to run BokehJS code because BokehJS library is missing\");\n",
       "        clearInterval(timer);\n",
       "      }\n",
       "    }, 10, root)\n",
       "  }\n",
       "})(window);"
      ],
      "application/vnd.bokehjs_exec.v0+json": ""
     },
     "metadata": {
      "application/vnd.bokehjs_exec.v0+json": {
       "id": "1003"
      }
     },
     "output_type": "display_data"
    }
   ],
   "source": [
    "\n",
    "p.legend.click_policy=\"mute\" #assigns the click policy (you can try to use ''hide')\n",
    "show(p) #displays your plot"
   ]
  },
  {
   "cell_type": "markdown",
   "metadata": {},
   "source": [
    "***Exercise 1.2***"
   ]
  },
  {
   "cell_type": "code",
   "execution_count": 11,
   "metadata": {},
   "outputs": [],
   "source": [
    "data = df"
   ]
  },
  {
   "cell_type": "code",
   "execution_count": 12,
   "metadata": {},
   "outputs": [
    {
     "name": "stdout",
     "output_type": "stream",
     "text": [
      "         id compas_screening_date     sex  age          age_cat  \\\n",
      "0         1            2013-08-14    Male   69  Greater than 45   \n",
      "1         3            2013-01-27    Male   34          25 - 45   \n",
      "2         4            2013-04-14    Male   24     Less than 25   \n",
      "3         5            2013-01-13    Male   23     Less than 25   \n",
      "4         6            2013-03-26    Male   43          25 - 45   \n",
      "...     ...                   ...     ...  ...              ...   \n",
      "7209  10996            2013-11-23    Male   23     Less than 25   \n",
      "7210  10997            2014-02-01    Male   23     Less than 25   \n",
      "7211  10999            2014-01-14    Male   57  Greater than 45   \n",
      "7212  11000            2014-03-09  Female   33          25 - 45   \n",
      "7213  11001            2014-06-30  Female   23     Less than 25   \n",
      "\n",
      "                  race  juv_fel_count  decile_score  juv_misd_count  \\\n",
      "0                Other              0             1               0   \n",
      "1     African-American              0             3               0   \n",
      "2     African-American              0             4               0   \n",
      "3     African-American              0             8               1   \n",
      "4                Other              0             1               0   \n",
      "...                ...            ...           ...             ...   \n",
      "7209  African-American              0             7               0   \n",
      "7210  African-American              0             3               0   \n",
      "7211             Other              0             1               0   \n",
      "7212  African-American              0             2               0   \n",
      "7213          Hispanic              0             4               0   \n",
      "\n",
      "      juv_other_count  ...  v_decile_score  v_score_text v_screening_date  \\\n",
      "0                   0  ...               1           Low       2013-08-14   \n",
      "1                   0  ...               1           Low       2013-01-27   \n",
      "2                   1  ...               3           Low       2013-04-14   \n",
      "3                   0  ...               6        Medium       2013-01-13   \n",
      "4                   0  ...               1           Low       2013-03-26   \n",
      "...               ...  ...             ...           ...              ...   \n",
      "7209                0  ...               5        Medium       2013-11-23   \n",
      "7210                0  ...               5        Medium       2014-02-01   \n",
      "7211                0  ...               1           Low       2014-01-14   \n",
      "7212                0  ...               2           Low       2014-03-09   \n",
      "7213                0  ...               4           Low       2014-06-30   \n",
      "\n",
      "      in_custody out_custody priors_count.1 start   end event two_year_recid  \n",
      "0     2014-07-07  2014-07-14              0     0   327     0              0  \n",
      "1     2013-01-26  2013-02-05              0     9   159     1              1  \n",
      "2     2013-06-16  2013-06-16              4     0    63     0              1  \n",
      "3            NaN         NaN              1     0  1174     0              0  \n",
      "4            NaN         NaN              2     0  1102     0              0  \n",
      "...          ...         ...            ...   ...   ...   ...            ...  \n",
      "7209  2013-11-22  2013-11-24              0     1   860     0              0  \n",
      "7210  2014-01-31  2014-02-02              0     1   790     0              0  \n",
      "7211  2014-01-13  2014-01-14              0     0   808     0              0  \n",
      "7212  2014-03-08  2014-03-09              3     0   754     0              0  \n",
      "7213  2015-03-15  2015-03-15              2     0   258     0              1  \n",
      "\n",
      "[7214 rows x 49 columns]\n"
     ]
    }
   ],
   "source": [
    "print(data)"
   ]
  },
  {
   "cell_type": "code",
   "execution_count": 13,
   "metadata": {},
   "outputs": [
    {
     "name": "stdout",
     "output_type": "stream",
     "text": [
      "               race  n_samples  n_rec_crimes  frac_crimes\n",
      "0  African-American       3696          1901     0.514340\n",
      "1             Asian         32             9     0.281250\n",
      "2         Caucasian       2454           966     0.393643\n",
      "3          Hispanic        637           232     0.364207\n",
      "4   Native American         18            10     0.555556\n",
      "5             Other        377           133     0.352785\n"
     ]
    }
   ],
   "source": [
    "race_grouped_data = data.groupby(['race']).size().reset_index(name=\"n_samples\")\n",
    "data_recid = data[data['two_year_recid'] == 1]\n",
    "race_grouped_data_recid = data_recid.groupby(['race']).size().reset_index(name=\"n_rec_crimes\")\n",
    "ratio_race_grouped_data_recid = race_grouped_data.merge(race_grouped_data_recid, how='inner', left_index=False, right_index=False)\n",
    "ratio_race_grouped_data_recid['frac_crimes'] = ratio_race_grouped_data_recid['n_rec_crimes']/ratio_race_grouped_data_recid['n_samples']\n",
    "\n",
    "print(ratio_race_grouped_data_recid)"
   ]
  },
  {
   "cell_type": "code",
   "execution_count": 14,
   "metadata": {},
   "outputs": [
    {
     "data": {
      "text/html": [
       "\n",
       "\n",
       "\n",
       "\n",
       "\n",
       "\n",
       "  <div class=\"bk-root\" id=\"aa77b021-f45e-4d00-addc-9522a17f2605\" data-root-id=\"1124\"></div>\n"
      ]
     },
     "metadata": {},
     "output_type": "display_data"
    },
    {
     "data": {
      "application/javascript": [
       "(function(root) {\n",
       "  function embed_document(root) {\n",
       "    \n",
       "  var docs_json = {\"16dd545d-39f8-491d-842d-5eea8a0f9ca6\":{\"roots\":{\"references\":[{\"attributes\":{\"below\":[{\"id\":\"1134\",\"type\":\"LinearAxis\"}],\"center\":[{\"id\":\"1138\",\"type\":\"Grid\"},{\"id\":\"1143\",\"type\":\"Grid\"}],\"left\":[{\"id\":\"1139\",\"type\":\"LinearAxis\"}],\"plot_height\":400,\"plot_width\":400,\"renderers\":[{\"id\":\"1162\",\"type\":\"GlyphRenderer\"}],\"title\":null,\"toolbar\":{\"id\":\"1151\",\"type\":\"Toolbar\"},\"x_range\":{\"id\":\"1126\",\"type\":\"DataRange1d\"},\"x_scale\":{\"id\":\"1130\",\"type\":\"LinearScale\"},\"y_range\":{\"id\":\"1128\",\"type\":\"DataRange1d\"},\"y_scale\":{\"id\":\"1132\",\"type\":\"LinearScale\"}},\"id\":\"1124\",\"subtype\":\"Figure\",\"type\":\"Plot\"},{\"attributes\":{\"ticker\":{\"id\":\"1135\",\"type\":\"BasicTicker\"}},\"id\":\"1138\",\"type\":\"Grid\"},{\"attributes\":{\"axis_label\":\"Ratio of N_recommit_crimes over N_samples\",\"formatter\":{\"id\":\"1175\",\"type\":\"BasicTickFormatter\"},\"ticker\":{\"id\":\"1140\",\"type\":\"BasicTicker\"}},\"id\":\"1139\",\"type\":\"LinearAxis\"},{\"attributes\":{\"callback\":null,\"tooltips\":[[\"index\",\"$index\"],[\"y\",\"$y\"],[\"race\",\"@race\"],[\"recommit crimes\",\"@n_rec_crimes\"],[\"samples\",\"@n_samples\"],[\"ratio of recommit crimes over samples\",\"@frac_crimes\"]]},\"id\":\"1150\",\"type\":\"HoverTool\"},{\"attributes\":{},\"id\":\"1140\",\"type\":\"BasicTicker\"},{\"attributes\":{\"dimension\":1,\"ticker\":{\"id\":\"1140\",\"type\":\"BasicTicker\"}},\"id\":\"1143\",\"type\":\"Grid\"},{\"attributes\":{},\"id\":\"1132\",\"type\":\"LinearScale\"},{\"attributes\":{\"active_drag\":\"auto\",\"active_inspect\":\"auto\",\"active_multi\":null,\"active_scroll\":\"auto\",\"active_tap\":\"auto\",\"tools\":[{\"id\":\"1144\",\"type\":\"PanTool\"},{\"id\":\"1145\",\"type\":\"WheelZoomTool\"},{\"id\":\"1146\",\"type\":\"BoxZoomTool\"},{\"id\":\"1147\",\"type\":\"SaveTool\"},{\"id\":\"1148\",\"type\":\"ResetTool\"},{\"id\":\"1149\",\"type\":\"HelpTool\"},{\"id\":\"1150\",\"type\":\"HoverTool\"}]},\"id\":\"1151\",\"type\":\"Toolbar\"},{\"attributes\":{\"fill_color\":{\"value\":\"olive\"},\"line_color\":{\"value\":\"olive\"},\"size\":{\"units\":\"screen\",\"value\":20},\"x\":{\"field\":\"index\"},\"y\":{\"field\":\"frac_crimes\"}},\"id\":\"1160\",\"type\":\"Circle\"},{\"attributes\":{},\"id\":\"1173\",\"type\":\"BasicTickFormatter\"},{\"attributes\":{},\"id\":\"1130\",\"type\":\"LinearScale\"},{\"attributes\":{\"fill_alpha\":{\"value\":0.1},\"fill_color\":{\"value\":\"#1f77b4\"},\"line_alpha\":{\"value\":0.1},\"line_color\":{\"value\":\"#1f77b4\"},\"size\":{\"units\":\"screen\",\"value\":20},\"x\":{\"field\":\"index\"},\"y\":{\"field\":\"frac_crimes\"}},\"id\":\"1161\",\"type\":\"Circle\"},{\"attributes\":{\"source\":{\"id\":\"1123\",\"type\":\"ColumnDataSource\"}},\"id\":\"1163\",\"type\":\"CDSView\"},{\"attributes\":{},\"id\":\"1144\",\"type\":\"PanTool\"},{\"attributes\":{\"bottom_units\":\"screen\",\"fill_alpha\":{\"value\":0.5},\"fill_color\":{\"value\":\"lightgrey\"},\"left_units\":\"screen\",\"level\":\"overlay\",\"line_alpha\":{\"value\":1.0},\"line_color\":{\"value\":\"black\"},\"line_dash\":[4,4],\"line_width\":{\"value\":2},\"render_mode\":\"css\",\"right_units\":\"screen\",\"top_units\":\"screen\"},\"id\":\"1179\",\"type\":\"BoxAnnotation\"},{\"attributes\":{\"axis_label\":\"Different races\",\"formatter\":{\"id\":\"1173\",\"type\":\"BasicTickFormatter\"},\"ticker\":{\"id\":\"1135\",\"type\":\"BasicTicker\"}},\"id\":\"1134\",\"type\":\"LinearAxis\"},{\"attributes\":{},\"id\":\"1175\",\"type\":\"BasicTickFormatter\"},{\"attributes\":{\"callback\":null},\"id\":\"1128\",\"type\":\"DataRange1d\"},{\"attributes\":{},\"id\":\"1145\",\"type\":\"WheelZoomTool\"},{\"attributes\":{},\"id\":\"1178\",\"type\":\"UnionRenderers\"},{\"attributes\":{},\"id\":\"1177\",\"type\":\"Selection\"},{\"attributes\":{\"callback\":null},\"id\":\"1126\",\"type\":\"DataRange1d\"},{\"attributes\":{\"overlay\":{\"id\":\"1179\",\"type\":\"BoxAnnotation\"}},\"id\":\"1146\",\"type\":\"BoxZoomTool\"},{\"attributes\":{},\"id\":\"1147\",\"type\":\"SaveTool\"},{\"attributes\":{},\"id\":\"1148\",\"type\":\"ResetTool\"},{\"attributes\":{\"callback\":null,\"data\":{\"frac_crimes\":{\"__ndarray__\":\"49Xpy3h14D8AAAAAAADSP4ob9IpyMdk/hZkqzitP1z9yHMdxHMfhP1vKBiYIlNY/\",\"dtype\":\"float64\",\"shape\":[6]},\"index\":[0,1,2,3,4,5],\"n_rec_crimes\":[1901,9,966,232,10,133],\"n_samples\":[3696,32,2454,637,18,377],\"race\":[\"African-American\",\"Asian\",\"Caucasian\",\"Hispanic\",\"Native American\",\"Other\"]},\"selected\":{\"id\":\"1177\",\"type\":\"Selection\"},\"selection_policy\":{\"id\":\"1178\",\"type\":\"UnionRenderers\"}},\"id\":\"1123\",\"type\":\"ColumnDataSource\"},{\"attributes\":{\"data_source\":{\"id\":\"1123\",\"type\":\"ColumnDataSource\"},\"glyph\":{\"id\":\"1160\",\"type\":\"Circle\"},\"hover_glyph\":null,\"muted_glyph\":null,\"nonselection_glyph\":{\"id\":\"1161\",\"type\":\"Circle\"},\"selection_glyph\":null,\"view\":{\"id\":\"1163\",\"type\":\"CDSView\"}},\"id\":\"1162\",\"type\":\"GlyphRenderer\"},{\"attributes\":{},\"id\":\"1149\",\"type\":\"HelpTool\"},{\"attributes\":{},\"id\":\"1135\",\"type\":\"BasicTicker\"}],\"root_ids\":[\"1124\"]},\"title\":\"Bokeh Application\",\"version\":\"1.3.4\"}};\n",
       "  var render_items = [{\"docid\":\"16dd545d-39f8-491d-842d-5eea8a0f9ca6\",\"roots\":{\"1124\":\"aa77b021-f45e-4d00-addc-9522a17f2605\"}}];\n",
       "  root.Bokeh.embed.embed_items_notebook(docs_json, render_items);\n",
       "\n",
       "  }\n",
       "  if (root.Bokeh !== undefined) {\n",
       "    embed_document(root);\n",
       "  } else {\n",
       "    var attempts = 0;\n",
       "    var timer = setInterval(function(root) {\n",
       "      if (root.Bokeh !== undefined) {\n",
       "        embed_document(root);\n",
       "        clearInterval(timer);\n",
       "      }\n",
       "      attempts++;\n",
       "      if (attempts > 100) {\n",
       "        console.log(\"Bokeh: ERROR: Unable to run BokehJS code because BokehJS library is missing\");\n",
       "        clearInterval(timer);\n",
       "      }\n",
       "    }, 10, root)\n",
       "  }\n",
       "})(window);"
      ],
      "application/vnd.bokehjs_exec.v0+json": ""
     },
     "metadata": {
      "application/vnd.bokehjs_exec.v0+json": {
       "id": "1124"
      }
     },
     "output_type": "display_data"
    }
   ],
   "source": [
    "source_df = ColumnDataSource(data=ratio_race_grouped_data_recid)\n",
    "\n",
    "ToolTips = [\n",
    "    (\"index\", \"$index\"),\n",
    "    (\"y\", \"$y\"),\n",
    "    (\"race\", \"@race\"),\n",
    "    (\"recommit crimes\", \"@n_rec_crimes\"),\n",
    "    (\"samples\", \"@n_samples\"),\n",
    "    (\"ratio of recommit crimes over samples\", \"@frac_crimes\")\n",
    "]\n",
    "\n",
    "#output_file(\"toolbar.html\")\n",
    "\n",
    "# create a new plot with the toolbar below\n",
    "p = figure(width=400, height=400, tooltips=ToolTips, x_axis_label='Different races', y_axis_label='Ratio of N_recommit_crimes over N_samples',\n",
    "           title=None, toolbar_location=\"right\")\n",
    "\n",
    "p.circle(x='index', y='frac_crimes', color=\"olive\", fill_alpha=1, size=20, source= source_df)\n",
    "\n",
    "\n",
    "show(p)"
   ]
  },
  {
   "cell_type": "markdown",
   "metadata": {},
   "source": [
    "# Part 2 "
   ]
  },
  {
   "cell_type": "markdown",
   "metadata": {},
   "source": [
    "***Exercise 2***"
   ]
  },
  {
   "cell_type": "code",
   "execution_count": 15,
   "metadata": {},
   "outputs": [
    {
     "name": "stdout",
     "output_type": "stream",
     "text": [
      "      age  two_year_recid  sex_Female  sex_Male  race_African-American  \\\n",
      "0      69               0           0         1                      0   \n",
      "1      34               1           0         1                      1   \n",
      "2      24               1           0         1                      1   \n",
      "3      23               0           0         1                      1   \n",
      "4      43               0           0         1                      0   \n",
      "...   ...             ...         ...       ...                    ...   \n",
      "7209   23               0           0         1                      1   \n",
      "7210   23               0           0         1                      1   \n",
      "7211   57               0           0         1                      0   \n",
      "7212   33               0           1         0                      1   \n",
      "7213   23               1           1         0                      0   \n",
      "\n",
      "      race_Asian  race_Caucasian  race_Hispanic  race_Native American  \\\n",
      "0              0               0              0                     0   \n",
      "1              0               0              0                     0   \n",
      "2              0               0              0                     0   \n",
      "3              0               0              0                     0   \n",
      "4              0               0              0                     0   \n",
      "...          ...             ...            ...                   ...   \n",
      "7209           0               0              0                     0   \n",
      "7210           0               0              0                     0   \n",
      "7211           0               0              0                     0   \n",
      "7212           0               0              0                     0   \n",
      "7213           0               0              1                     0   \n",
      "\n",
      "      race_Other  \n",
      "0              1  \n",
      "1              0  \n",
      "2              0  \n",
      "3              0  \n",
      "4              1  \n",
      "...          ...  \n",
      "7209           0  \n",
      "7210           0  \n",
      "7211           1  \n",
      "7212           0  \n",
      "7213           0  \n",
      "\n",
      "[7214 rows x 10 columns]\n"
     ]
    }
   ],
   "source": [
    "df_new = df.loc[:, ['sex', 'age', 'race', 'two_year_recid']]\n",
    "\n",
    "df_oneHotEncoding = pd.get_dummies(df_new)\n",
    "df_oneHotEncoding.dropna(axis=1, how='any', inplace=True)\n",
    "print(df_oneHotEncoding)"
   ]
  },
  {
   "cell_type": "code",
   "execution_count": 16,
   "metadata": {},
   "outputs": [
    {
     "name": "stdout",
     "output_type": "stream",
     "text": [
      "Training Features Shape: (5049, 9)\n",
      "Training Labels Shape: (5049,)\n",
      "Testing Features Shape: (2165, 9)\n",
      "Testing Labels Shape: (2165,)\n"
     ]
    }
   ],
   "source": [
    "# Labels that we want to predict\n",
    "labels = np.array(df_oneHotEncoding['two_year_recid'])\n",
    "\n",
    "df_oneHotEncoding_x = df_oneHotEncoding.drop('two_year_recid', axis=1)\n",
    "\n",
    "df_oneHotEncoding_x_list = list(df_oneHotEncoding_x.columns)\n",
    "df_oneHotEncoding_x = np.array(df_oneHotEncoding_x)\n",
    "\n",
    "x_train, x_test, y_train, y_test = train_test_split(df_oneHotEncoding_x, labels, test_size=0.3, random_state=42)\n",
    "\n",
    "print('Training Features Shape:', x_train.shape)\n",
    "print('Training Labels Shape:', y_train.shape)\n",
    "print('Testing Features Shape:', x_test.shape)\n",
    "print('Testing Labels Shape:', y_test.shape)"
   ]
  },
  {
   "cell_type": "code",
   "execution_count": 17,
   "metadata": {},
   "outputs": [
    {
     "name": "stdout",
     "output_type": "stream",
     "text": [
      "Accurancy: 0.581986143187067\n",
      "\n",
      "Confusion Metrix: \n",
      "[[712 495]\n",
      " [410 548]]\n",
      "\n",
      "Classification Report: \n",
      "\n",
      "              precision    recall  f1-score   support\n",
      "\n",
      "           0       0.63      0.59      0.61      1207\n",
      "           1       0.53      0.57      0.55       958\n",
      "\n",
      "    accuracy                           0.58      2165\n",
      "   macro avg       0.58      0.58      0.58      2165\n",
      "weighted avg       0.59      0.58      0.58      2165\n",
      "\n"
     ]
    }
   ],
   "source": [
    "forest = ensemble.RandomForestClassifier(n_estimators = 1000, random_state=42)\n",
    "forest_fit = forest.fit(x_train , y_train)\n",
    "y_test_predicted = forest.predict(x_test)\n",
    "\n",
    "accuracy = metrics.accuracy_score(y_test, y_test_predicted)\n",
    "print(\"Accurancy: \" + str(accuracy) + \"\\n\")\n",
    "\n",
    "print(\"Confusion Metrix: \")\n",
    "print(confusion_matrix(y_test, y_test_predicted))\n",
    "print()\n",
    "\n",
    "print(\"Classification Report: \\n\")\n",
    "print(classification_report(y_test, y_test_predicted))"
   ]
  },
  {
   "cell_type": "code",
   "execution_count": 35,
   "metadata": {},
   "outputs": [
    {
     "data": {
      "image/png": "[encoded data removed]",
      "text/plain": [
       "<Figure size 504x216 with 2 Axes>"
      ]
     },
     "metadata": {},
     "output_type": "display_data"
    }
   ],
   "source": [
    "# Get and reshape confusion matrix data\n",
    "matrix = confusion_matrix(y_test, y_test_predicted)\n",
    "matrix = matrix.astype('float') / matrix.sum(axis=1)[:, np.newaxis]\n",
    "\n",
    "# Build the plot\n",
    "p=plt.figure(figsize=(7,3))\n",
    "#sns.set(font_scale=2.5)\n",
    "annot_kws = {\"ha\": 'center',\"va\": 'center'}\n",
    "p=sns.heatmap(matrix, annot=True, cmap='Blues', linewidths=0.2, vmin=0.0, vmax=1.0)\n",
    "p.set_ylim(2, 0)\n",
    "\n",
    "# Add labels to the plot\n",
    "class_names = ['Not recid', 'Recid']\n",
    "tick_marks = np.arange(len(class_names))\n",
    "tick_marks2 = tick_marks + 0.5\n",
    "#plt.xticks(tick_marks, class_names, rotation=0)\n",
    "#plt.yticks(tick_marks2, class_names, rotation=0)\n",
    "plt.xlabel('Predicted label', fontsize=15)\n",
    "plt.ylabel('True label', fontsize=15)\n",
    "plt.title('Confusion Matrix for Random Forest Model', fontsize=18)\n",
    "plt.show()"
   ]
  },
  {
   "cell_type": "code",
   "execution_count": 19,
   "metadata": {},
   "outputs": [
    {
     "name": "stdout",
     "output_type": "stream",
     "text": [
      "      age  two_year_recid  sex_Female  sex_Male\n",
      "6      41               1           0         1\n",
      "8      39               0           1         0\n",
      "9      21               1           0         1\n",
      "10     27               0           0         1\n",
      "12     37               0           1         0\n",
      "...   ...             ...         ...       ...\n",
      "7192   32               0           0         1\n",
      "7194   30               1           1         0\n",
      "7199   23               0           0         1\n",
      "7205   23               1           0         1\n",
      "7206   21               1           0         1\n",
      "\n",
      "[2454 rows x 4 columns]\n"
     ]
    }
   ],
   "source": [
    "df_caucasian = df_new[df_new['race'] == 'Caucasian']\n",
    "df_caucasian_oneHotEncoding = pd.get_dummies(df_caucasian)\n",
    "df_caucasian_oneHotEncoding.dropna(axis=1, how='any', inplace=True)\n",
    "df_caucasian_oneHotEncoding.drop(columns=['race_Caucasian'], inplace=True)\n",
    "print(df_caucasian_oneHotEncoding)"
   ]
  },
  {
   "cell_type": "code",
   "execution_count": 20,
   "metadata": {},
   "outputs": [
    {
     "name": "stdout",
     "output_type": "stream",
     "text": [
      "Training Features Shape: (1717, 3)\n",
      "Training Labels Shape: (1717,)\n",
      "Testing Features Shape: (737, 3)\n",
      "Testing Labels Shape: (737,)\n"
     ]
    }
   ],
   "source": [
    "# Labels that we want to predict\n",
    "labels = np.array(df_caucasian_oneHotEncoding['two_year_recid'])\n",
    "\n",
    "df_caucasian_oneHotEncoding_x = df_caucasian_oneHotEncoding.drop('two_year_recid', axis=1)\n",
    "\n",
    "df_caucasian_oneHotEncoding_x_list = list(df_caucasian_oneHotEncoding_x.columns)\n",
    "df_caucasian_oneHotEncoding_x = np.array(df_caucasian_oneHotEncoding_x)\n",
    "\n",
    "x_train_c, x_test_c, y_train_c, y_test_c = train_test_split(df_caucasian_oneHotEncoding_x, labels, test_size=0.3, random_state=42)\n",
    "\n",
    "print('Training Features Shape:', x_train_c.shape)\n",
    "print('Training Labels Shape:', y_train_c.shape)\n",
    "print('Testing Features Shape:', x_test_c.shape)\n",
    "print('Testing Labels Shape:', y_test_c.shape)"
   ]
  },
  {
   "cell_type": "code",
   "execution_count": 21,
   "metadata": {},
   "outputs": [
    {
     "name": "stdout",
     "output_type": "stream",
     "text": [
      "Accurancy: 0.5753052917232022\n",
      "\n",
      "Confusion Metrix: \n",
      "[[357  76]\n",
      " [237  67]]\n",
      "\n",
      "Classification Report: \n",
      "\n",
      "              precision    recall  f1-score   support\n",
      "\n",
      "           0       0.60      0.82      0.70       433\n",
      "           1       0.47      0.22      0.30       304\n",
      "\n",
      "    accuracy                           0.58       737\n",
      "   macro avg       0.53      0.52      0.50       737\n",
      "weighted avg       0.55      0.58      0.53       737\n",
      "\n"
     ]
    }
   ],
   "source": [
    "forest_c = ensemble.RandomForestClassifier(n_estimators = 1000, random_state=42)\n",
    "forest_fit_c = forest_c.fit(x_train_c , y_train_c)\n",
    "y_test_predicted_c = forest_c.predict(x_test_c)\n",
    "\n",
    "accuracy = metrics.accuracy_score(y_test_c, y_test_predicted_c)\n",
    "print(\"Accurancy: \" + str(accuracy) + \"\\n\")\n",
    "\n",
    "print(\"Confusion Metrix: \")\n",
    "print(confusion_matrix(y_test_c, y_test_predicted_c))\n",
    "print()\n",
    "\n",
    "print(\"Classification Report: \\n\")\n",
    "print(classification_report(y_test_c, y_test_predicted_c))"
   ]
  },
  {
   "cell_type": "code",
   "execution_count": 38,
   "metadata": {},
   "outputs": [
    {
     "data": {
      "image/png": "[encoded data removed]",
      "text/plain": [
       "<Figure size 1152x504 with 2 Axes>"
      ]
     },
     "metadata": {},
     "output_type": "display_data"
    }
   ],
   "source": [
    "# Get and reshape confusion matrix data\n",
    "matrix = confusion_matrix(y_test_c, y_test_predicted_c)\n",
    "matrix = matrix.astype('float') / matrix.sum(axis=1)[:, np.newaxis]\n",
    "\n",
    "# Build the plot\n",
    "p = plt.figure(figsize=(16,7))\n",
    "#sns.set(font_scale=2.5)\n",
    "annot_kws = {\"ha\": 'center',\"va\": 'center'}\n",
    "p = sns.heatmap(matrix, annot=True, cmap='Blues', linewidths=0.2)\n",
    "p.set_ylim(2, 0)\n",
    "\n",
    "# Add labels to the plot\n",
    "class_names = ['Not recid', 'Recid']\n",
    "tick_marks = np.arange(len(class_names))\n",
    "tick_marks2 = tick_marks + 0.5\n",
    "plt.xticks(tick_marks, class_names, rotation=0)\n",
    "plt.yticks(tick_marks2, class_names, rotation=0)\n",
    "plt.xlabel('Predicted label')\n",
    "plt.ylabel('True label')\n",
    "plt.title('Confusion Matrix for Random Forest Model of Caucasians')\n",
    "plt.show()"
   ]
  },
  {
   "cell_type": "code",
   "execution_count": 23,
   "metadata": {},
   "outputs": [
    {
     "name": "stdout",
     "output_type": "stream",
     "text": [
      "      age  two_year_recid  sex_Female  sex_Male\n",
      "1      34               1           0         1\n",
      "2      24               1           0         1\n",
      "3      23               0           0         1\n",
      "11     23               1           0         1\n",
      "13     41               0           0         1\n",
      "...   ...             ...         ...       ...\n",
      "7207   30               1           0         1\n",
      "7208   20               0           0         1\n",
      "7209   23               0           0         1\n",
      "7210   23               0           0         1\n",
      "7212   33               0           1         0\n",
      "\n",
      "[3696 rows x 4 columns]\n"
     ]
    }
   ],
   "source": [
    "df_african_american = df_new[df_new['race'] == 'African-American']\n",
    "df_african_american_oneHotEncoding = pd.get_dummies(df_african_american)\n",
    "df_african_american_oneHotEncoding.dropna(axis=1, how='any', inplace=True)\n",
    "df_african_american_oneHotEncoding.drop(columns=['race_African-American'], inplace=True)\n",
    "print(df_african_american_oneHotEncoding)"
   ]
  },
  {
   "cell_type": "code",
   "execution_count": 24,
   "metadata": {},
   "outputs": [
    {
     "name": "stdout",
     "output_type": "stream",
     "text": [
      "Training Features Shape: (2587, 3)\n",
      "Training Labels Shape: (2587,)\n",
      "Testing Features Shape: (1109, 3)\n",
      "Testing Labels Shape: (1109,)\n"
     ]
    }
   ],
   "source": [
    "# Labels that we want to predict\n",
    "labels = np.array(df_african_american_oneHotEncoding['two_year_recid'])\n",
    "\n",
    "df_african_american_oneHotEncoding_x = df_african_american_oneHotEncoding.drop('two_year_recid', axis=1)\n",
    "\n",
    "df_african_american_oneHotEncoding_x_list = list(df_african_american_oneHotEncoding_x.columns)\n",
    "df_african_american_oneHotEncoding_x = np.array(df_african_american_oneHotEncoding_x)\n",
    "\n",
    "x_train_a, x_test_a, y_train_a, y_test_a = train_test_split(df_african_american_oneHotEncoding_x, labels, test_size=0.3, random_state=42)\n",
    "\n",
    "print('Training Features Shape:', x_train_a.shape)\n",
    "print('Training Labels Shape:', y_train_a.shape)\n",
    "print('Testing Features Shape:', x_test_a.shape)\n",
    "print('Testing Labels Shape:', y_test_a.shape)"
   ]
  },
  {
   "cell_type": "code",
   "execution_count": 25,
   "metadata": {},
   "outputs": [
    {
     "name": "stdout",
     "output_type": "stream",
     "text": [
      "Accurancy: 0.5608656447249775\n",
      "\n",
      "Confusion Metrix: \n",
      "[[228 322]\n",
      " [165 394]]\n",
      "\n",
      "Classification Report: \n",
      "\n",
      "              precision    recall  f1-score   support\n",
      "\n",
      "           0       0.58      0.41      0.48       550\n",
      "           1       0.55      0.70      0.62       559\n",
      "\n",
      "    accuracy                           0.56      1109\n",
      "   macro avg       0.57      0.56      0.55      1109\n",
      "weighted avg       0.57      0.56      0.55      1109\n",
      "\n"
     ]
    }
   ],
   "source": [
    "forest = ensemble.RandomForestClassifier(n_estimators = 1000, random_state=42)\n",
    "forest_fit = forest.fit(x_train_a , y_train_a)\n",
    "y_test_predicted_a = forest.predict(x_test_a)\n",
    "\n",
    "accuracy = metrics.accuracy_score(y_test_a, y_test_predicted_a)\n",
    "print(\"Accurancy: \" + str(accuracy) + \"\\n\")\n",
    "\n",
    "print(\"Confusion Metrix: \")\n",
    "print(confusion_matrix(y_test_a, y_test_predicted_a))\n",
    "print()\n",
    "\n",
    "print(\"Classification Report: \\n\")\n",
    "print(classification_report(y_test_a, y_test_predicted_a))"
   ]
  },
  {
   "cell_type": "code",
   "execution_count": 43,
   "metadata": {},
   "outputs": [
    {
     "data": {
      "image/png": "[encoded data removed]",
      "text/plain": [
       "<Figure size 1152x504 with 2 Axes>"
      ]
     },
     "metadata": {},
     "output_type": "display_data"
    }
   ],
   "source": [
    "# Get and reshape confusion matrix data\n",
    "matrix = confusion_matrix(y_test_a, y_test_predicted_a)\n",
    "matrix = matrix.astype('float') / matrix.sum(axis=1)[:, np.newaxis]\n",
    "\n",
    "# Build the plot\n",
    "p = plt.figure(figsize=(16,7))\n",
    "sns.set(font_scale=2.5)\n",
    "annot_kws = {\"ha\": 'center',\"va\": 'center'}\n",
    "p = sns.heatmap(matrix, annot=True, cmap=plt.cm.Greens, linewidths=0.2)\n",
    "p.set_ylim(2, 0)\n",
    "\n",
    "# Add labels to the plot\n",
    "class_names = ['Not recid', 'Recid']\n",
    "tick_marks = np.arange(len(class_names))\n",
    "tick_marks2 = tick_marks + 0.5\n",
    "plt.xticks(tick_marks, class_names, rotation=0)\n",
    "plt.yticks(tick_marks2, class_names, rotation=0)\n",
    "plt.xlabel('Predicted label')\n",
    "plt.ylabel('True label')\n",
    "plt.title('Confusion Matrix for Random Forest Model of African Americans')\n",
    "plt.show()"
   ]
  },
  {
   "cell_type": "markdown",
   "metadata": {},
   "source": [
    "# Part 3"
   ]
  },
  {
   "cell_type": "markdown",
   "metadata": {},
   "source": [
    "***Exercise 3.2***"
   ]
  },
  {
   "cell_type": "code",
   "execution_count": 27,
   "metadata": {},
   "outputs": [
    {
     "name": "stdout",
     "output_type": "stream",
     "text": [
      "Predicted Caucasians, Pca: 0.19402985074626866\n",
      "Predicted African-Americans, Paa: 0.6456266907123535\n"
     ]
    }
   ],
   "source": [
    "p_c = y_test_predicted_c.sum()/y_test_predicted_c.size\n",
    "p_aa = y_test_predicted_a.sum()/y_test_predicted_a.size\n",
    "print(\"Predicted Caucasians, Pca: \" + str(p_c))\n",
    "print(\"Predicted African-Americans, Paa: \" + str(p_aa))"
   ]
  },
  {
   "cell_type": "code",
   "execution_count": 28,
   "metadata": {},
   "outputs": [
    {
     "name": "stdout",
     "output_type": "stream",
     "text": [
      "0.6994705244726089\n"
     ]
    }
   ],
   "source": [
    "th = 1 - (p_c/p_aa)\n",
    "print(th)"
   ]
  },
  {
   "cell_type": "code",
   "execution_count": null,
   "metadata": {},
   "outputs": [],
   "source": []
  }
 ],
 "metadata": {
  "kernelspec": {
   "display_name": "Python 3",
   "language": "python",
   "name": "python3"
  },
  "language_info": {
   "codemirror_mode": {
    "name": "ipython",
    "version": 3
   },
   "file_extension": ".py",
   "mimetype": "text/x-python",
   "name": "python",
   "nbconvert_exporter": "python",
   "pygments_lexer": "ipython3",
   "version": "3.7.4"
  }
 },
 "nbformat": 4,
 "nbformat_minor": 2
}
