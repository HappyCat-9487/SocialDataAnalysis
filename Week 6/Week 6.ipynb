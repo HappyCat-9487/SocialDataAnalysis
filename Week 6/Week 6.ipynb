{
 "cells": [
  {
   "cell_type": "code",
   "execution_count": 50,
   "metadata": {},
   "outputs": [],
   "source": [
    "import pandas as pd\n",
    "import numpy as np\n",
    "import matplotlib.pyplot as plt\n",
    "import seaborn as sns\n",
    "%matplotlib inline\n",
    "from sklearn.model_selection import train_test_split\n",
    "from sklearn.ensemble import RandomForestClassifier\n",
    "from sklearn.metrics import accuracy_score, confusion_matrix, classification_report\n",
    "from pprint import pprint\n",
    "from sklearn.model_selection import RandomizedSearchCV\n",
    "\n",
    "\n",
    "data = pd.read_csv('data_6.txt') "
   ]
  },
  {
   "cell_type": "markdown",
   "metadata": {},
   "source": [
    "# Part 3"
   ]
  },
  {
   "cell_type": "markdown",
   "metadata": {},
   "source": [
    "***Exercise 3.2***"
   ]
  },
  {
   "cell_type": "code",
   "execution_count": 2,
   "metadata": {},
   "outputs": [
    {
     "name": "stdout",
     "output_type": "stream",
     "text": [
      "0       0\n",
      "1       1\n",
      "2       1\n",
      "5       0\n",
      "6       1\n",
      "       ..\n",
      "7209    0\n",
      "7210    0\n",
      "7211    0\n",
      "7212    0\n",
      "7213    1\n",
      "Name: two_year_recid, Length: 6623, dtype: int64\n"
     ]
    }
   ],
   "source": [
    "data_set = data\n",
    "data_set = data_set[data_set['is_recid'] != -1]\n",
    "data_set = data_set[data_set['days_b_screening_arrest'] <= 30]\n",
    "data_set = data_set.drop(['is_recid', 'c_charge_degree', 'days_b_screening_arrest'], axis=1)\n",
    "\n",
    "print(data_set['two_year_recid'])"
   ]
  },
  {
   "cell_type": "code",
   "execution_count": 3,
   "metadata": {},
   "outputs": [
    {
     "name": "stdout",
     "output_type": "stream",
     "text": [
      "0.4538728672806885\n"
     ]
    },
    {
     "data": {
      "image/png": "[encoded data removed]",
      "text/plain": [
       "<Figure size 432x288 with 1 Axes>"
      ]
     },
     "metadata": {
      "needs_background": "light"
     },
     "output_type": "display_data"
    }
   ],
   "source": [
    "data_set_recid = (data_set['two_year_recid'] == 1).sum()\n",
    "data_set_nrecid = (data_set['two_year_recid'] == 0).sum()\n",
    "data_set_ifrecid = [data_set_nrecid, data_set_recid]\n",
    "print(data_set_recid/(len(data_set['two_year_recid'])))\n",
    "\n",
    "#bar chart\n",
    "height = data_set_ifrecid\n",
    "bars = ('Not', 'Still')\n",
    "y_pos = np.arange(len(bars))\n",
    "\n",
    "# Create bars\n",
    "plt.bar(y_pos, height)\n",
    "\n",
    "# Create names on the x-axis\n",
    "plt.xticks(y_pos, bars)\n",
    "\n",
    "# Show graphic\n",
    "plt.show()"
   ]
  },
  {
   "cell_type": "code",
   "execution_count": 4,
   "metadata": {},
   "outputs": [
    {
     "name": "stdout",
     "output_type": "stream",
     "text": [
      "Female: 0.3586530931871574\n",
      "Male: 0.4766180321735877\n"
     ]
    },
    {
     "data": {
      "image/png": "[encoded data removed]",
      "text/plain": [
       "<Figure size 432x288 with 1 Axes>"
      ]
     },
     "metadata": {
      "needs_background": "light"
     },
     "output_type": "display_data"
    }
   ],
   "source": [
    "#Female\n",
    "data_set_female = data_set[data_set['sex'] == 'Female']\n",
    "N_data_set_female = len(data_set_female)\n",
    "\n",
    "data_set_recid_female = data_set_female[data_set_female['two_year_recid'] == 1]\n",
    "N_data_set_recid_female = len(data_set_recid_female)\n",
    "\n",
    "ratio_of_recid_female = N_data_set_recid_female/N_data_set_female\n",
    "\n",
    "#Male\n",
    "data_set_male = data_set[data_set['sex'] == 'Male']\n",
    "N_data_set_male = len(data_set_male)\n",
    "\n",
    "data_set_recid_male = data_set_male[data_set_male['two_year_recid'] == 1]\n",
    "N_data_set_recid_male = len(data_set_recid_male)\n",
    "\n",
    "ratio_of_recid_male = N_data_set_recid_male/N_data_set_male\n",
    "\n",
    "\n",
    "print(\"Female: \" + str(ratio_of_recid_female))\n",
    "print(\"Male: \" + str(ratio_of_recid_male))\n",
    "\n",
    "\n",
    "#bar chart\n",
    "Sex = [ratio_of_recid_female, ratio_of_recid_male]\n",
    "height = Sex\n",
    "bars = ('Female', 'Male')\n",
    "y_pos = np.arange(len(bars))\n",
    "\n",
    "# Create bars\n",
    "plt.bar(y_pos, height, color=['red', 'blue'])\n",
    "\n",
    "# Create names on the x-axis\n",
    "plt.xticks(y_pos, bars)\n",
    "\n",
    "# Show graphic\n",
    "plt.show()"
   ]
  },
  {
   "cell_type": "code",
   "execution_count": 5,
   "metadata": {},
   "outputs": [
    {
     "name": "stdout",
     "output_type": "stream",
     "text": [
      "               race  Count  Count_Recid     ratio\n",
      "0  African-American   3379         1758  0.520272\n",
      "1             Asian     32            9  0.281250\n",
      "2         Caucasian   2291          901  0.393278\n",
      "3          Hispanic    557          205  0.368043\n",
      "4   Native American     13            7  0.538462\n",
      "5             Other    351          126  0.358974\n"
     ]
    },
    {
     "data": {
      "image/png": "[encoded data removed]",
      "text/plain": [
       "<Figure size 432x288 with 1 Axes>"
      ]
     },
     "metadata": {
      "needs_background": "light"
     },
     "output_type": "display_data"
    }
   ],
   "source": [
    "data_set_recid = data_set[data_set['two_year_recid'] == 1]\n",
    "\n",
    "race_grouped_data = data_set.groupby(['race']).size().reset_index(name=\"Count\")\n",
    "race_grouped_data_recid = data_set_recid.groupby(['race']).size().reset_index(name=\"Count_Recid\")\n",
    "ratio_race_grouped_data = race_grouped_data.merge(race_grouped_data_recid, how='inner', left_index=False, right_index=False)\n",
    "ratio_race_grouped_data['ratio'] = ratio_race_grouped_data['Count_Recid']/ratio_race_grouped_data['Count']\n",
    "\n",
    "print(ratio_race_grouped_data)\n",
    "\n",
    "#bar chart\n",
    "height = ratio_race_grouped_data['ratio']\n",
    "bars = ratio_race_grouped_data['race']\n",
    "y_pos = np.arange(len(bars))\n",
    "\n",
    "# Create bars\n",
    "plt.bar(y_pos, height)\n",
    "\n",
    "# Create names on the x-axis\n",
    "plt.xticks(y_pos, bars, rotation=45)\n",
    "\n",
    "# Show graphic\n",
    "plt.show()"
   ]
  },
  {
   "cell_type": "code",
   "execution_count": 6,
   "metadata": {},
   "outputs": [
    {
     "name": "stdout",
     "output_type": "stream",
     "text": [
      "[0, 20)      0.969697\n",
      "[20, 30)     0.536984\n",
      "[30, 40)     0.447154\n",
      "[40, 50)     0.356549\n",
      "[50, 60)     0.324763\n",
      "[60, 70)     0.253731\n",
      "[70, 80)     0.142857\n",
      "[80, 90)     0.000000\n",
      "[90, 100)    1.000000\n",
      "Name: age, dtype: float64\n"
     ]
    },
    {
     "data": {
      "image/png": "[encoded data removed]",
      "text/plain": [
       "<Figure size 432x288 with 1 Axes>"
      ]
     },
     "metadata": {
      "needs_background": "light"
     },
     "output_type": "display_data"
    }
   ],
   "source": [
    "data_set_recid = data_set[data_set['two_year_recid'] == 1]\n",
    "\n",
    "bins = [0, 20, 30, 40, 50, 60, 70, 80, 90, 100]\n",
    "segments = pd.cut(data_set['age'], bins, right=False)\n",
    "segments_recid = pd.cut(data_set_recid['age'], bins, right=False)\n",
    "segments_count = pd.value_counts(segments, sort=False)\n",
    "segments_recid_count = pd.value_counts(segments_recid, sort=False)\n",
    "\n",
    "ratio_segments = segments_recid_count/segments_count\n",
    "\n",
    "print(ratio_segments)\n",
    "\n",
    "#bar chart\n",
    "height = ratio_segments\n",
    "y_pos = ratio_segments.index.astype(str)\n",
    "\n",
    "# Create bars\n",
    "plt.bar(y_pos, height)\n",
    "\n",
    "plt.xticks(rotation=45)\n",
    "\n",
    "# Show graphic\n",
    "plt.show()"
   ]
  },
  {
   "cell_type": "code",
   "execution_count": 15,
   "metadata": {},
   "outputs": [
    {
     "name": "stdout",
     "output_type": "stream",
     "text": [
      "      age  two_year_recid  sex_Female  sex_Male  race_African-American  \\\n",
      "0      69               0           0         1                      0   \n",
      "1      34               1           0         1                      1   \n",
      "2      24               1           0         1                      1   \n",
      "5      44               0           0         1                      0   \n",
      "6      41               1           0         1                      0   \n",
      "...   ...             ...         ...       ...                    ...   \n",
      "7209   23               0           0         1                      1   \n",
      "7210   23               0           0         1                      1   \n",
      "7211   57               0           0         1                      0   \n",
      "7212   33               0           1         0                      1   \n",
      "7213   23               1           1         0                      0   \n",
      "\n",
      "      race_Asian  race_Caucasian  race_Hispanic  race_Native American  \\\n",
      "0              0               0              0                     0   \n",
      "1              0               0              0                     0   \n",
      "2              0               0              0                     0   \n",
      "5              0               0              0                     0   \n",
      "6              0               1              0                     0   \n",
      "...          ...             ...            ...                   ...   \n",
      "7209           0               0              0                     0   \n",
      "7210           0               0              0                     0   \n",
      "7211           0               0              0                     0   \n",
      "7212           0               0              0                     0   \n",
      "7213           0               0              1                     0   \n",
      "\n",
      "      race_Other  \n",
      "0              1  \n",
      "1              0  \n",
      "2              0  \n",
      "5              1  \n",
      "6              0  \n",
      "...          ...  \n",
      "7209           0  \n",
      "7210           0  \n",
      "7211           1  \n",
      "7212           0  \n",
      "7213           0  \n",
      "\n",
      "[6623 rows x 10 columns]\n"
     ]
    }
   ],
   "source": [
    "data_set_new = data_set.loc[:, ['sex', 'age', 'race', 'two_year_recid']]\n",
    "#print(data_set_new)\n",
    "\n",
    "data_set_oneHotEncoding = pd.get_dummies(data_set_new)\n",
    "data_set_oneHotEncoding.dropna(axis=1, how='any', inplace=True)\n",
    "print(data_set_oneHotEncoding)"
   ]
  },
  {
   "cell_type": "code",
   "execution_count": 16,
   "metadata": {},
   "outputs": [
    {
     "name": "stdout",
     "output_type": "stream",
     "text": [
      "Training Features Shape: (4636, 9)\n",
      "Training Labels Shape: (4636,)\n",
      "Testing Features Shape: (1987, 9)\n",
      "Testing Labels Shape: (1987,)\n"
     ]
    }
   ],
   "source": [
    "# Labels that we want to predict\n",
    "labels = np.array(data_set_oneHotEncoding['two_year_recid'])\n",
    "\n",
    "data_set_oneHotEncoding_x = data_set_oneHotEncoding.drop('two_year_recid', axis=1)\n",
    "\n",
    "data_set_oneHotEncoding_x_list = list(data_set_oneHotEncoding_x.columns)\n",
    "data_set_oneHotEncoding_x = np.array(data_set_oneHotEncoding_x)\n",
    "\n",
    "x_train, x_test, y_train, y_test = train_test_split(data_set_oneHotEncoding_x, labels, test_size=0.3, random_state=42)\n",
    "\n",
    "print('Training Features Shape:', x_train.shape)\n",
    "print('Training Labels Shape:', y_train.shape)\n",
    "print('Testing Features Shape:', x_test.shape)\n",
    "print('Testing Labels Shape:', y_test.shape)"
   ]
  },
  {
   "cell_type": "code",
   "execution_count": 27,
   "metadata": {},
   "outputs": [
    {
     "name": "stdout",
     "output_type": "stream",
     "text": [
      "Accurancy: 0.5787619526925013\n",
      "\n",
      "Confusion Metrix: \n",
      "[[658 408]\n",
      " [429 492]]\n",
      "\n",
      "Classification Report: \n",
      "\n",
      "              precision    recall  f1-score   support\n",
      "\n",
      "           0       0.61      0.62      0.61      1066\n",
      "           1       0.55      0.53      0.54       921\n",
      "\n",
      "    accuracy                           0.58      1987\n",
      "   macro avg       0.58      0.58      0.58      1987\n",
      "weighted avg       0.58      0.58      0.58      1987\n",
      "\n"
     ]
    }
   ],
   "source": [
    "forest = ensemble.RandomForestClassifier(n_estimators = 1000, random_state=42)\n",
    "forest_fit = forest.fit(x_train , y_train)\n",
    "y_test_predicted = forest.predict(x_test)\n",
    "\n",
    "accuracy = metrics.accuracy_score(y_test, y_test_predicted)\n",
    "print(\"Accurancy: \" + str(accuracy) + \"\\n\")\n",
    "\n",
    "print(\"Confusion Metrix: \")\n",
    "print(confusion_matrix(y_test, y_test_predicted))\n",
    "print()\n",
    "\n",
    "print(\"Classification Report: \\n\")\n",
    "print(classification_report(y_test, y_test_predicted))"
   ]
  },
  {
   "cell_type": "code",
   "execution_count": 47,
   "metadata": {},
   "outputs": [
    {
     "data": {
      "image/png": "[encoded data removed]",
      "text/plain": [
       "<Figure size 1152x504 with 2 Axes>"
      ]
     },
     "metadata": {},
     "output_type": "display_data"
    }
   ],
   "source": [
    "# Get and reshape confusion matrix data\n",
    "matrix = confusion_matrix(y_test, y_test_predicted)\n",
    "matrix = matrix.astype('float') / matrix.sum(axis=1)[:, np.newaxis]\n",
    "\n",
    "# Build the plot\n",
    "plt.figure(figsize=(16,7))\n",
    "sns.set(font_scale=2.5)\n",
    "annot_kws = {\"ha\": 'center',\"va\": 'center'}\n",
    "sns.heatmap(matrix, annot=True, annot_kws={'size':40}, cmap=plt.cm.Greens, linewidths=0.2)\n",
    "\n",
    "# Add labels to the plot\n",
    "class_names = ['Not recid', 'Recid']\n",
    "tick_marks = np.arange(len(class_names))\n",
    "tick_marks2 = tick_marks + 0.5\n",
    "plt.xticks(tick_marks, class_names, rotation=0)\n",
    "plt.yticks(tick_marks2, class_names, rotation=0)\n",
    "plt.xlabel('Predicted label')\n",
    "plt.ylabel('True label')\n",
    "plt.title('Confusion Matrix for Random Forest Model')\n",
    "plt.show()"
   ]
  },
  {
   "cell_type": "code",
   "execution_count": 52,
   "metadata": {},
   "outputs": [
    {
     "name": "stdout",
     "output_type": "stream",
     "text": [
      "Parameters currently in use:\n",
      "\n",
      "{'bootstrap': [True, False],\n",
      " 'max_depth': [10, 20, 30, 40, 50, 60, 70, 80, 90, 100, 110, None],\n",
      " 'max_features': ['auto', 'sqrt'],\n",
      " 'min_samples_leaf': [1, 2, 4],\n",
      " 'min_samples_split': [2, 5, 10],\n",
      " 'n_estimators': [200, 400, 600, 800, 1000, 1200, 1400, 1600, 1800, 2000]}\n"
     ]
    }
   ],
   "source": [
    "#RandomizedSearchCV\n",
    "\n",
    "# Number of trees in random forest\n",
    "n_estimators = [int(x) for x in np.linspace(start = 200, stop = 2000, num = 10)]\n",
    "# Number of features to consider at every split\n",
    "max_features = ['auto', 'sqrt']\n",
    "# Maximum number of levels in tree\n",
    "max_depth = [int(x) for x in np.linspace(10, 110, num = 11)]\n",
    "max_depth.append(None)\n",
    "# Minimum number of samples required to split a node\n",
    "min_samples_split = [2, 5, 10]\n",
    "# Minimum number of samples required at each leaf node\n",
    "min_samples_leaf = [1, 2, 4]\n",
    "# Method of selecting samples for training each tree\n",
    "bootstrap = [True, False]\n",
    "# Create the random grid\n",
    "random_grid = {'n_estimators': n_estimators,\n",
    "               'max_features': max_features,\n",
    "               'max_depth': max_depth,\n",
    "               'min_samples_split': min_samples_split,\n",
    "               'min_samples_leaf': min_samples_leaf,\n",
    "               'bootstrap': bootstrap}\n",
    "\n",
    "# Look at parameters used by our current forest\n",
    "print('Parameters currently in use:\\n')\n",
    "pprint(random_grid)"
   ]
  },
  {
   "cell_type": "code",
   "execution_count": 53,
   "metadata": {},
   "outputs": [
    {
     "name": "stdout",
     "output_type": "stream",
     "text": [
      "Fitting 3 folds for each of 100 candidates, totalling 300 fits\n",
      "{'n_estimators': 400, 'min_samples_split': 2, 'min_samples_leaf': 4, 'max_features': 'sqrt', 'max_depth': 10, 'bootstrap': True}\n"
     ]
    }
   ],
   "source": [
    "# Use the random grid to search for best hyperparameters\n",
    "# Random search of parameters, using 3 fold cross validation, \n",
    "# search across 100 different combinations, and use all available cores\n",
    "forest_random = RandomizedSearchCV(estimator = forest, param_distributions = random_grid, n_iter = 100, cv = 3, verbose=2, random_state=42, n_jobs = -1)\n",
    "# Fit the random search model\n",
    "forest_random.fit(x_train, y_train)\n",
    "\n",
    "print(forest_random.best_params_)"
   ]
  },
  {
   "cell_type": "markdown",
   "metadata": {},
   "source": [
    "# Evaluate Random Search"
   ]
  },
  {
   "cell_type": "code",
   "execution_count": 55,
   "metadata": {},
   "outputs": [
    {
     "name": "stdout",
     "output_type": "stream",
     "text": [
      "Model Performance\n",
      "Average Error: 0.4288 degrees.\n",
      "Accuracy = nan%.\n",
      "Model Performance\n",
      "Average Error: 0.4061 degrees.\n",
      "Accuracy = nan%.\n",
      "Improvement of nan%.\n"
     ]
    },
    {
     "name": "stderr",
     "output_type": "stream",
     "text": [
      "C:\\Users\\Jennifer\\Anaconda3\\lib\\site-packages\\ipykernel_launcher.py:4: RuntimeWarning: divide by zero encountered in true_divide\n",
      "  after removing the cwd from sys.path.\n",
      "C:\\Users\\Jennifer\\Anaconda3\\lib\\site-packages\\ipykernel_launcher.py:4: RuntimeWarning: invalid value encountered in true_divide\n",
      "  after removing the cwd from sys.path.\n",
      "C:\\Users\\Jennifer\\Anaconda3\\lib\\site-packages\\ipykernel_launcher.py:4: RuntimeWarning: divide by zero encountered in true_divide\n",
      "  after removing the cwd from sys.path.\n",
      "C:\\Users\\Jennifer\\Anaconda3\\lib\\site-packages\\ipykernel_launcher.py:4: RuntimeWarning: invalid value encountered in true_divide\n",
      "  after removing the cwd from sys.path.\n"
     ]
    }
   ],
   "source": [
    "def evaluate(model, test_features, test_labels):\n",
    "    predictions = model.predict(test_features)\n",
    "    errors = abs(predictions - test_labels)\n",
    "    mape = 100 * np.mean(errors / test_labels)\n",
    "    accuracy = 100 - mape\n",
    "    print('Model Performance')\n",
    "    print('Average Error: {:0.4f} degrees.'.format(np.mean(errors)))\n",
    "    print('Accuracy = {:0.2f}%.'.format(accuracy))\n",
    "    \n",
    "    return accuracy\n",
    "\n",
    "base_model = RandomForestClassifier(n_estimators = 10, random_state = 42)\n",
    "base_model.fit(x_train, y_train)\n",
    "base_accuracy = evaluate(base_model, x_test, y_test)\n",
    "\n",
    "best_random = forest_random.best_estimator_\n",
    "random_accuracy = evaluate(best_random, x_test, y_test)\n",
    "                           \n",
    "print('Improvement of {:0.2f}%.'.format( 100 * (random_accuracy - base_accuracy) / base_accuracy))"
   ]
  },
  {
   "cell_type": "code",
   "execution_count": null,
   "metadata": {},
   "outputs": [],
   "source": []
  }
 ],
 "metadata": {
  "kernelspec": {
   "display_name": "Python 3",
   "language": "python",
   "name": "python3"
  },
  "language_info": {
   "codemirror_mode": {
    "name": "ipython",
    "version": 3
   },
   "file_extension": ".py",
   "mimetype": "text/x-python",
   "name": "python",
   "nbconvert_exporter": "python",
   "pygments_lexer": "ipython3",
   "version": "3.7.4"
  }
 },
 "nbformat": 4,
 "nbformat_minor": 2
}
